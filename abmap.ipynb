{
 "cells": [
  {
   "cell_type": "code",
   "execution_count": 1,
   "id": "d6070e46-e053-463a-a26d-22eadc6ffbab",
   "metadata": {},
   "outputs": [],
   "source": [
    "import pandas as pd \n",
    "import numpy as np\n",
    "import matplotlib.pyplot as plt\n",
    "import matplotlib.patches as patches\n",
    "import matplotlib as mpl\n",
    "from scipy import stats\n",
    "from scipy import interpolate\n",
    "import matplotlib.cm as cm\n",
    "import matplotlib.patheffects as path_effects\n",
    "from scipy.interpolate import interp1d\n",
    "from scipy.ndimage import uniform_filter1d\n",
    "from matplotlib import colors\n",
    "from sklearn.preprocessing import StandardScaler\n",
    "from sklearn.cluster import HDBSCAN\n",
    "from sklearn.manifold import TSNE\n",
    "from sklearn.decomposition import PCA\n",
    "import colorcet as cc\n",
    "import joypy\n",
    "import matplotlib.colors as mcolors\n",
    "import umap\n",
    "%matplotlib inline"
   ]
  },
  {
   "cell_type": "code",
   "execution_count": 2,
   "id": "2a7b8860-7d47-4c9b-90dc-c0f4acc5fa92",
   "metadata": {},
   "outputs": [],
   "source": [
    "def box(data,sublat,sublon,tlat,blat,llon,rlon):\n",
    "    newdat = data[(data[sublat] <= tlat) & (data[sublat] >= blat) & (data[sublon] >= llon) & (data[sublon] <= rlon)]\n",
    "    return newdat"
   ]
  },
  {
   "cell_type": "code",
   "execution_count": 3,
   "id": "860bcd68-b2e2-44e7-ac8d-88f9308f5e88",
   "metadata": {},
   "outputs": [],
   "source": [
    "def re(data):\n",
    "    data['Longitude'] = np.where(data['Longitude'] < 0.0, data['Longitude'], data['Longitude'])\n",
    "    data['Longitude'] = np.where(data['Longitude'] >= 0.0, data['Longitude'], data['Longitude'])\n",
    "    return data"
   ]
  },
  {
   "cell_type": "code",
   "execution_count": 4,
   "id": "7bb0705a-91c9-497b-9af2-fc1122925410",
   "metadata": {},
   "outputs": [],
   "source": [
    "def GRS(maxlat,minlat,minlon,maxlon,element):\n",
    "    GRS = r\"C:\\Users\\cgary\\OneDrive - Louisiana State University\\Desktop\\GRS_Unit_Del\\{}_GS2010_5x5.txt\".format(element)\n",
    "    grs = pd.read_csv(GRS,delimiter='\\t+',header=0,index_col=False)\n",
    "    #grs[\"Latitude\"] += 0.5\n",
    "    #grs[\"Longitude\"] += 0.5\n",
    "    if element == \"Th\":\n",
    "        lab = \"{} ppm\".format(element)\n",
    "        lab2 = \"{} Sigma\".format(element)\n",
    "        grs.loc[grs[lab] == 9999.999, lab] = 0.0\n",
    "        grs.loc[grs[lab2] == 9999.999, lab2] = 0.0\n",
    "        #grs = re(grs)\n",
    "    else:\n",
    "        lab = \"{} Wt%\".format(element)\n",
    "        lab2 = \"{} Sigma\".format(element)\n",
    "        grs.loc[grs[lab] == 9999.999, lab] = 0.0\n",
    "        grs.loc[grs[lab2] == 9999.999, lab2] = 0.0\n",
    "        #grs = re(grs)\n",
    "    #grs = box(grs,'Latitude','Longitude',maxlat,minlat,minlon,maxlon)\n",
    "    return(grs)"
   ]
  },
  {
   "cell_type": "code",
   "execution_count": 5,
   "id": "8bec7002-7c50-44e0-a0f8-809c652efb9f",
   "metadata": {},
   "outputs": [],
   "source": [
    "def stt(data,data2): \n",
    "    zscore = []\n",
    "    for i in range(len(data)):\n",
    "        zscore.append((data.iloc[(i)]-np.mean(data))/(np.sqrt((np.std(data))**2+(data2.iloc[(i)])**2)))\n",
    "    return zscore"
   ]
  },
  {
   "cell_type": "code",
   "execution_count": 6,
   "id": "6ee5ace6-30d7-4010-b672-8b17c4a3c7d4",
   "metadata": {},
   "outputs": [],
   "source": [
    "def npr(data):\n",
    "    for i in range(len(data)):\n",
    "        if data[i] < 0.68:\n",
    "            data[i]=0.0\n",
    "        if data[i] >= 0.68:\n",
    "            data[i] = 1.0\n",
    "    return data"
   ]
  },
  {
   "cell_type": "code",
   "execution_count": 7,
   "id": "fd9d2385-9a8c-492c-8ad9-000b62c36874",
   "metadata": {},
   "outputs": [],
   "source": [
    "def hclnp(data):\n",
    "    K = GRS(60.0, -60.0, -180.0, 180.0,\"K\")\n",
    "    K = K[K['K Wt%'] > 0.0]\n",
    "    cdata = pd.concat(data, ignore_index=True,axis=1)\n",
    "    projection = TSNE(perplexity=39).fit_transform(cdata)\n",
    "    hdbscan = HDBSCAN(min_cluster_size=int(np.sqrt(len(cdata))),cluster_selection_method='leaf').fit(projection)\n",
    "    prob = np.array(hdbscan.probabilities_, dtype=np.float64)\n",
    "    plt.scatter(projection[:,0], projection[:,1],c=hdbscan.labels_)\n",
    "    #plt.colorbar();\n",
    "    newlab=hdbscan.labels_+1.0\n",
    "    clust = newlab*npr(hdbscan.probabilities_)\n",
    "    cldf = pd.DataFrame({'Latitude':K['Latitude'],'Longitude':K['Longitude'],'HDB':clust})\n",
    "    cldf2 = cldf[cldf['HDB'] > 0.0]\n",
    "    return cldf,cldf2,prob"
   ]
  },
  {
   "cell_type": "code",
   "execution_count": 8,
   "id": "ab333220-7c7d-4446-bfd4-7d73d9269a51",
   "metadata": {},
   "outputs": [],
   "source": [
    "def hclnp2(data):\n",
    "    K = GRS(60.0, -60.0, -180.0, 180.0,\"K\")\n",
    "    K = K[K['K Wt%'] > 0.0]\n",
    "    cdata = pd.concat(data, ignore_index=True,axis=1)\n",
    "    fit = umap.UMAP(n_neighbors=114)\n",
    "    projection = fit.fit_transform(cdata)\n",
    "    hdbscan = HDBSCAN(min_cluster_size=39, cluster_selection_method='leaf').fit(projection)\n",
    "    prob = np.array([hdbscan.probabilities_], dtype=np.float64)\n",
    "    plt.scatter(projection[:,0], projection[:,1], c=hdbscan.probabilities_)\n",
    "    plt.colorbar();\n",
    "    newlab=hdbscan.labels_+1.0\n",
    "    clust = newlab*npr(hdbscan.probabilities_)\n",
    "    cldf = pd.DataFrame({'Latitude':K['Latitude'],'Longitude':K['Longitude'],'HDB':clust})\n",
    "    cldf2 = cldf[cldf['HDB'] > 0.0]\n",
    "    return cldf,cldf2,prob"
   ]
  },
  {
   "cell_type": "code",
   "execution_count": 9,
   "id": "78f0cbfb-74ee-43a7-a39d-e0310bba39bd",
   "metadata": {},
   "outputs": [],
   "source": [
    "def hclnp3(data):\n",
    "    K = GRS(60.0, -60.0, -180.0, 180.0,\"K\")\n",
    "    K = K[K['K Wt%'] > 0.0]\n",
    "    cdata = pd.concat(data, ignore_index=True,axis=1)\n",
    "    principal=PCA(n_components=2)\n",
    "    principal.fit(cdata)\n",
    "    projection=principal.transform(cdata)\n",
    "    hdbscan = HDBSCAN(min_cluster_size=int(np.sqrt(len(cdata))),cluster_selection_method='leaf').fit(projection)\n",
    "    prob = np.array([hdbscan.probabilities_], dtype=np.float64)\n",
    "    plt.scatter(projection[:,0], projection[:,1], c=hdbscan.probabilities_)\n",
    "    plt.colorbar();\n",
    "    newlab=hdbscan.labels_+1.0\n",
    "    clust = newlab*npr(hdbscan.probabilities_)\n",
    "    cldf = pd.DataFrame({'Latitude':K['Latitude'],'Longitude':K['Longitude'],'HDB':clust})\n",
    "    cldf2 = cldf[cldf['HDB'] > 0.0]\n",
    "    return cldf,cldf2,prob"
   ]
  },
  {
   "cell_type": "code",
   "execution_count": 10,
   "id": "9fab5a22-b7f9-47a1-88ec-4833478febf6",
   "metadata": {},
   "outputs": [],
   "source": [
    "def plotn(data, title):\n",
    "    fig, ax1 = plt.subplots(figsize=(10,5),layout=\"constrained\")\n",
    "    fig.suptitle(title)\n",
    "    cmap = plt.get_cmap('Spectral',np.max(data)-np.min(data)+1)\n",
    "    im1 = ax1.scatter(data['Longitude'],data['Latitude'],c=data['HDB'],vmin = np.min(data['HDB']), vmax = np.max(data['HDB']),cmap=cmap)\n",
    "    ax1.set_xlabel('Longitude (°)')\n",
    "    ax1.set_ylabel('Latitude (°)')\n",
    "    ax1.set_title('HDBSCAN Cluster')\n",
    "    fig.colorbar(im1,label='Grouping Number');\n",
    "    #ax1.scatter(ara1['Lon'],ara1['Lat'],s=1,label='Parker 1993',c='r');\n",
    "    return"
   ]
  },
  {
   "cell_type": "code",
   "execution_count": 11,
   "id": "381da1ab-76ad-4b16-839f-d8cc25d0de7d",
   "metadata": {},
   "outputs": [],
   "source": [
    "def plotn2(data,data2, title):\n",
    "    fig, ax1 = plt.subplots(figsize=(10,5),layout=\"constrained\")\n",
    "    fig.suptitle(title)\n",
    "    #cmap = plt.get_cmap('Spectral',np.max(data)-np.min(data)+1)\n",
    "    im1 = ax1.scatter(data['Longitude'],data['Latitude'],c=data2)\n",
    "    ax1.set_xlabel('Longitude (°)')\n",
    "    ax1.set_ylabel('Latitude (°)')\n",
    "    ax1.set_title('HDBSCAN Probability')\n",
    "    fig.colorbar(im1,label='Probability');\n",
    "    #ax1.scatter(ara1['Lon'],ara1['Lat'],s=1,label='Parker 1993',c='r');\n",
    "    return"
   ]
  },
  {
   "cell_type": "code",
   "execution_count": 12,
   "id": "38d7aad4-092d-4c46-8919-885136e23739",
   "metadata": {},
   "outputs": [],
   "source": [
    "def pr0(data):\n",
    "    prov0= data[data['HDB']==0.0]\n",
    "    nprov0 = prov0[prov0['K Wt%'] >0.0]\n",
    "    nprov0 = nprov0[nprov0['Latitude'] >-35.0]\n",
    "    nprov01= nprov0[(nprov0['Latitude'] <=-10.0) & (nprov0['Longitude'] <=165.0)]\n",
    "    nprov011 = nprov01[(nprov01['Longitude'] <-150.0)]\n",
    "    nprov012 = nprov01[(nprov01['Longitude'] > 100.0)]\n",
    "    nprov02= nprov0[(nprov0['Latitude'] <=-15.0) & (nprov0['Longitude'] >165.0)]\n",
    "    nprov0121 = nprov012[(nprov012['Latitude'] <=-20.0) & (nprov012['Longitude'] > 135.0)]\n",
    "    nprov0122 = nprov012[(nprov012['Latitude'] >=-20.0) ]\n",
    "    nprov1= nprov0[(nprov0['Latitude'] >-10.0)]\n",
    "    nprov11= nprov1[(nprov1['Latitude'] >-10.0) & (nprov1['Longitude'] > -85.0) & (nprov1['Longitude'] < 105.0)]\n",
    "    nprov12= nprov1[(nprov1['Latitude'] <0.0) & (nprov1['Longitude'] > 70.0) & (nprov1['Longitude'] < 155.0)]\n",
    "    nprov13= nprov1[(nprov1['Latitude'] <-5.0) & (nprov1['Longitude'] < -165.0)]\n",
    "    list = [nprov011,nprov012,nprov02,nprov0121,nprov0122,nprov11,nprov12,nprov13]\n",
    "    nprov = pd.concat(list)\n",
    "    return nprov"
   ]
  },
  {
   "cell_type": "code",
   "execution_count": 13,
   "id": "c3487604-399c-400e-a667-429e87f2d978",
   "metadata": {},
   "outputs": [],
   "source": [
    "def rat(data1,err1,data2,err2):\n",
    "    median1 = np.quantile(data1, 0.5)  # 0.5 represents the 50th percentile, which is the median\n",
    "    q11 = np.quantile(data1, 0.25)  # First quartile (25th percentile)\n",
    "    q31 = np.quantile(data1, 0.75) \n",
    "    iqr1 = q31 - q11\n",
    "    median2 = np.quantile(data2, 0.5)  # 0.5 represents the 50th percentile, which is the median\n",
    "    q12 = np.quantile(data2, 0.25)  # First quartile (25th percentile)\n",
    "    q32 = np.quantile(data2, 0.75) \n",
    "    iqr2 = q32 - q12\n",
    "    netmed = median1/median2\n",
    "    netq1 = q11/q32\n",
    "    netq3 = q31/q12\n",
    "    rmse1 =np.sqrt(np.mean(np.square(err1)))\n",
    "    rmse2 =np.sqrt(np.mean(np.square(err2)))\n",
    "    err= (median1/median2)*np.sqrt((rmse1/median1)**2+(rmse2/median2)**2) \n",
    "    netlw = netmed-err\n",
    "    nethw = netmed+err\n",
    "    return(netlw,netq1,netmed,netq3,nethw)"
   ]
  },
  {
   "cell_type": "code",
   "execution_count": 14,
   "id": "019de6dc-ea80-4103-9c6f-0baebc427a37",
   "metadata": {},
   "outputs": [],
   "source": [
    "def bp(data1,data2,title):\n",
    "    ndata2 = data2[data2['Si Wt%'] >0.0]\n",
    "    t1 = rat(data1['Al Wt%'],data1['Al Sigma'],ndata2['Al Wt%'],ndata2['Al Sigma'])\n",
    "    t2 = rat(data1['Si Wt%'],data1['Si Sigma'],ndata2['Si Wt%'],ndata2['Si Sigma'])\n",
    "    t3 = rat(data1['Ca Wt%'],data1['Ca Sigma'],ndata2['Ca Wt%'],ndata2['Ca Sigma']) \n",
    "    t4 = rat(data1['Fe Wt%'],data1['Fe Sigma'],ndata2['Fe Wt%'],ndata2['Fe Sigma'])\n",
    "    t5 = rat(data1['H2O Wt%'],data1['H2O Sigma'],ndata2['H2O Wt%'],ndata2['H2O Sigma'])\n",
    "    t6 = rat(data1['S Wt%'],data1['S Sigma'],ndata2['S Wt%'],ndata2['S Sigma'])\n",
    "    t7 = rat(data1['Cl Wt%'],data1['Cl Sigma'],ndata2['Cl Wt%'],ndata2['Cl Sigma'])\n",
    "    t8 = rat(data1['K Wt%'],data1['K Sigma'],ndata2['K Wt%'],ndata2['K Sigma'])\n",
    "    t9 = rat(data1['Th ppm'],data1['Th Sigma'],ndata2['Th ppm'],ndata2['Th Sigma'])\n",
    "    fig = plt.figure(figsize=(12,6))\n",
    "    bp=plt.boxplot([t1,t2,t3,t4,t5,t6,t7,t8,t9],showfliers=False)\n",
    "    plt.xticks([1,2,3,4,5,6,7,8,9], ['Al Wt%','Si Wt%','Ca Wt%','Fe Wt%','H2O Wt%','S Wt%','Cl Wt%','K Wt%','Th ppm'])\n",
    "    plt.title(title)\n",
    "    plt.grid()\n",
    "    plt.axhline(y=1,c='k')\n",
    "    plt.ylim(0.35,1.85)\n",
    "    return()"
   ]
  },
  {
   "cell_type": "code",
   "execution_count": 15,
   "id": "0a689055-eb12-4a17-ad37-3b3f4e8c9ac2",
   "metadata": {},
   "outputs": [],
   "source": [
    "def joyp(data, name, name2,title):\n",
    "    ndata = data[data[name] >0.0]\n",
    "    prov0= ndata[ndata['HDB'] == 0.0]\n",
    "    prov1= ndata[ndata['HDB'] == 1.0]\n",
    "    prov2= ndata[ndata['HDB'] == 2.0]\n",
    "    prov3= ndata[ndata['HDB'] == 3.0]\n",
    "    prov4= ndata[ndata['HDB'] == 4.0]\n",
    "    prov5= ndata[ndata['HDB'] == 5.0]\n",
    "    prov6= ndata[ndata['HDB'] == 6.0]\n",
    "    prov7= ndata[ndata['HDB'] == 7.0]\n",
    "    labels = ['Mars','Non-Province','Province 1','Province 2','Province 3','Province 4','Province 5','Province 6','Province 7']\n",
    "    colors = [(0, 0, 0, 1),(1, 0, 1, 1)]# Black for the first segment\n",
    "    colors.extend(plt.cm.jet_r(np.linspace(0, 1, 7)))  # Remaining colors from jet_r\n",
    "    new_cmap = mcolors.LinearSegmentedColormap.from_list('my_cmap', colors, N=9)\n",
    "    lst = list([ndata[name],prov0[name],prov1[name],prov2[name],prov3[name],prov4[name],prov5[name],prov6[name],prov7[name]])\n",
    "    lst2 = list([ndata[name2],prov0[name],prov1[name2],prov2[name2],prov3[name2],prov4[name2],prov5[name2],prov6[name2],prov7[name2]])\n",
    "    fig, ax = joypy.joyplot(lst,lst2,labels=labels, grid='x', colormap=new_cmap,title=title,fill=True, kind='kde',figsize=(12,8),xlabels=True, overlap=2, alpha=0.5,normalize=True)\n",
    "    plt.xlabel(name)    \n",
    "    return(ax)"
   ]
  },
  {
   "cell_type": "code",
   "execution_count": 16,
   "id": "9cebf7f4-7197-4e91-aa18-b611828059c6",
   "metadata": {},
   "outputs": [],
   "source": [
    "def bp2(data1,data3,data2,name1,name2):\n",
    "    ndata2 = data2[data2['Si Wt%'] >0.0]\n",
    "    t1 = rat(data1['Al Wt%'],data1['Al Sigma'],ndata2['Al Wt%'],ndata2['Al Sigma'])\n",
    "    t2 = rat(data1['Si Wt%'],data1['Si Sigma'],ndata2['Si Wt%'],ndata2['Si Sigma'])\n",
    "    t3 = rat(data1['Ca Wt%'],data1['Ca Sigma'],ndata2['Ca Wt%'],ndata2['Ca Sigma']) \n",
    "    t4 = rat(data1['Fe Wt%'],data1['Fe Sigma'],ndata2['Fe Wt%'],ndata2['Fe Sigma'])\n",
    "    t5 = rat(data1['H2O Wt%'],data1['H2O Sigma'],ndata2['H2O Wt%'],ndata2['H2O Sigma'])\n",
    "    t6 = rat(data1['S Wt%'],data1['S Sigma'],ndata2['S Wt%'],ndata2['S Sigma'])\n",
    "    t7 = rat(data1['Cl Wt%'],data1['Cl Sigma'],ndata2['Cl Wt%'],ndata2['Cl Sigma'])\n",
    "    t8 = rat(data1['K Wt%'],data1['K Sigma'],ndata2['K Wt%'],ndata2['K Sigma'])\n",
    "    t9 = rat(data1['Th ppm'],data1['Th Sigma'],ndata2['Th ppm'],ndata2['Th Sigma'])\n",
    "    t21 = rat(data3['Al Wt%'],data3['Al Sigma'],ndata2['Al Wt%'],ndata2['Al Sigma'])\n",
    "    t22 = rat(data3['Si Wt%'],data3['Si Sigma'],ndata2['Si Wt%'],ndata2['Si Sigma'])\n",
    "    t23 = rat(data3['Ca Wt%'],data3['Ca Sigma'],ndata2['Ca Wt%'],ndata2['Ca Sigma']) \n",
    "    t24 = rat(data3['Fe Wt%'],data3['Fe Sigma'],ndata2['Fe Wt%'],ndata2['Fe Sigma'])\n",
    "    t25 = rat(data3['H2O Wt%'],data3['H2O Sigma'],ndata2['H2O Wt%'],ndata2['H2O Sigma'])\n",
    "    t26 = rat(data3['S Wt%'],data3['S Sigma'],ndata2['S Wt%'],ndata2['S Sigma'])\n",
    "    t27 = rat(data3['Cl Wt%'],data3['Cl Sigma'],ndata2['Cl Wt%'],ndata2['Cl Sigma'])\n",
    "    t28 = rat(data3['K Wt%'],data3['K Sigma'],ndata2['K Wt%'],ndata2['K Sigma'])\n",
    "    t28 = rat(data3['K Wt%'],data3['K Sigma'],ndata2['K Wt%'],ndata2['K Sigma'])\n",
    "    t29 = rat(data3['Th ppm'],data3['Th Sigma'],ndata2['Th ppm'],ndata2['Th Sigma'])\n",
    "    fig = plt.figure(figsize=(12,6))\n",
    "    bp1=plt.boxplot([t1,t2,t3,t4,t5,t6,t7,t8,t9],showfliers=False,positions=np.array(range(len([t1,t2,t3,t4,t5,t6,t7,t8,t9])))*2.0-.3, \n",
    "                   patch_artist=True, boxprops=dict(facecolor='blue', color='black'), widths=0.6)\n",
    "    bp2=plt.boxplot([t21,t22,t23,t24,t25,t26,t27,t28,t29],showfliers=False,positions=np.array(range(len([t21,t22,t23,t24,t25,t26,t27,t28,t29])))*2.0+.3, \n",
    "                   patch_artist=True, boxprops=dict(facecolor='red', color='black'), widths=0.6)\n",
    "    plt.xticks([0,2,4,6,8,10,12,14,16], ['Al Wt%','Si Wt%','Ca Wt%','Fe Wt%','H2O Wt%','S Wt%','Cl Wt%','K Wt%','Th ppm'])\n",
    "    plt.legend([bp1[\"boxes\"][0], bp2[\"boxes\"][0]], [name1, name2])\n",
    "    plt.grid()\n",
    "    plt.axhline(y=1,c='k')\n",
    "    plt.ylim(0.35,1.85)\n",
    "    return()"
   ]
  },
  {
   "cell_type": "code",
   "execution_count": 17,
   "id": "c1a1a16f-7eae-4a7a-8fbe-0ee47c16b7b1",
   "metadata": {},
   "outputs": [],
   "source": [
    "def bp3(data1,data3,data4,data2,name1,name2,name3):\n",
    "    ndata2 = data2[data2['Si Wt%'] >0.0]\n",
    "    t1 = rat(data1['Al Wt%'],data1['Al Sigma'],ndata2['Al Wt%'],ndata2['Al Sigma'])\n",
    "    t2 = rat(data1['Si Wt%'],data1['Si Sigma'],ndata2['Si Wt%'],ndata2['Si Sigma'])\n",
    "    t3 = rat(data1['Ca Wt%'],data1['Ca Sigma'],ndata2['Ca Wt%'],ndata2['Ca Sigma']) \n",
    "    t4 = rat(data1['Fe Wt%'],data1['Fe Sigma'],ndata2['Fe Wt%'],ndata2['Fe Sigma'])\n",
    "    t5 = rat(data1['H2O Wt%'],data1['H2O Sigma'],ndata2['H2O Wt%'],ndata2['H2O Sigma'])\n",
    "    t6 = rat(data1['S Wt%'],data1['S Sigma'],ndata2['S Wt%'],ndata2['S Sigma'])\n",
    "    t7 = rat(data1['Cl Wt%'],data1['Cl Sigma'],ndata2['Cl Wt%'],ndata2['Cl Sigma'])\n",
    "    t8 = rat(data1['K Wt%'],data1['K Sigma'],ndata2['K Wt%'],ndata2['K Sigma'])\n",
    "    t9 = rat(data1['Th ppm'],data1['Th Sigma'],ndata2['Th ppm'],ndata2['Th Sigma'])\n",
    "    t21 = rat(data3['Al Wt%'],data3['Al Sigma'],ndata2['Al Wt%'],ndata2['Al Sigma'])\n",
    "    t22 = rat(data3['Si Wt%'],data3['Si Sigma'],ndata2['Si Wt%'],ndata2['Si Sigma'])\n",
    "    t23 = rat(data3['Ca Wt%'],data3['Ca Sigma'],ndata2['Ca Wt%'],ndata2['Ca Sigma']) \n",
    "    t24 = rat(data3['Fe Wt%'],data3['Fe Sigma'],ndata2['Fe Wt%'],ndata2['Fe Sigma'])\n",
    "    t25 = rat(data3['H2O Wt%'],data3['H2O Sigma'],ndata2['H2O Wt%'],ndata2['H2O Sigma'])\n",
    "    t26 = rat(data3['S Wt%'],data3['S Sigma'],ndata2['S Wt%'],ndata2['S Sigma'])\n",
    "    t27 = rat(data3['Cl Wt%'],data3['Cl Sigma'],ndata2['Cl Wt%'],ndata2['Cl Sigma'])\n",
    "    t28 = rat(data3['K Wt%'],data3['K Sigma'],ndata2['K Wt%'],ndata2['K Sigma'])\n",
    "    t29 = rat(data3['Th ppm'],data3['Th Sigma'],ndata2['Th ppm'],ndata2['Th Sigma'])\n",
    "    t31 = rat(data4['Al Wt%'],data4['Al Sigma'],ndata2['Al Wt%'],ndata2['Al Sigma'])\n",
    "    t32 = rat(data4['Si Wt%'],data4['Si Sigma'],ndata2['Si Wt%'],ndata2['Si Sigma'])\n",
    "    t33 = rat(data4['Ca Wt%'],data4['Ca Sigma'],ndata2['Ca Wt%'],ndata2['Ca Sigma']) \n",
    "    t34 = rat(data4['Fe Wt%'],data4['Fe Sigma'],ndata2['Fe Wt%'],ndata2['Fe Sigma'])\n",
    "    t35 = rat(data4['H2O Wt%'],data4['H2O Sigma'],ndata2['H2O Wt%'],ndata2['H2O Sigma'])\n",
    "    t36 = rat(data4['S Wt%'],data4['S Sigma'],ndata2['S Wt%'],ndata2['S Sigma'])\n",
    "    t37 = rat(data4['Cl Wt%'],data4['Cl Sigma'],ndata2['Cl Wt%'],ndata2['Cl Sigma'])\n",
    "    t38 = rat(data4['K Wt%'],data4['K Sigma'],ndata2['K Wt%'],ndata2['K Sigma'])\n",
    "    t39 = rat(data4['Th ppm'],data4['Th Sigma'],ndata2['Th ppm'],ndata2['Th Sigma'])\n",
    "    fig = plt.figure(figsize=(12,6))\n",
    "    bp1=plt.boxplot([t1,t2,t3,t4,t5,t6,t7,t8,t9],showfliers=False,positions=np.array(range(len([t1,t2,t3,t4,t5,t6,t7,t8,t9])))*2.0-0.5, \n",
    "                   patch_artist=True, boxprops=dict(facecolor='blue', color='black'), widths=0.5)\n",
    "    bp2=plt.boxplot([t21,t22,t23,t24,t25,t26,t27,t28,t29],showfliers=False,positions=np.array(range(len([t21,t22,t23,t24,t25,t26,t27,t28,t29])))*2.0, \n",
    "                   patch_artist=True, boxprops=dict(facecolor='black', color='black'), widths=0.5)\n",
    "    bp3=plt.boxplot([t31,t32,t33,t34,t35,t36,t37,t38,t39],showfliers=False,positions=np.array(range(len([t31,t32,t33,t34,t35,t36,t37,t38,t39])))*2.0+0.5, \n",
    "                   patch_artist=True, boxprops=dict(facecolor='red', color='black'), widths=0.5)\n",
    "    plt.xticks([0,2,4,6,8,10,12,14,16], ['Al Wt%','Si Wt%','Ca Wt%','Fe Wt%','H2O Wt%','S Wt%','Cl Wt%','K Wt%','Th ppm'])\n",
    "    plt.legend([bp1[\"boxes\"][0], bp2[\"boxes\"][0], bp3[\"boxes\"][0]], [name1, name2, name3])\n",
    "    plt.grid()\n",
    "    plt.axhline(y=1,c='k')\n",
    "    plt.ylim(0.35,1.85)\n",
    "    return()"
   ]
  },
  {
   "cell_type": "code",
   "execution_count": 18,
   "id": "5dc46dde-b0b8-4985-9db2-7f3ad63dd669",
   "metadata": {},
   "outputs": [],
   "source": [
    "ara1 = pd.read_csv(r\"C:\\Users\\cgary\\OneDrive - Louisiana State University\\Desktop\\GRS_Unit_Del\\1_Parker1993_Arabia_Topo.csv\",delimiter=',',header=0,index_col=False)\n",
    "deu1 = pd.read_csv(r\"C:\\Users\\cgary\\OneDrive - Louisiana State University\\Desktop\\GRS_Unit_Del\\2_Parker1993_Deuteronilus_Topo.csv\",delimiter=',',header=0,index_col=False)"
   ]
  },
  {
   "cell_type": "code",
   "execution_count": 19,
   "id": "6dd50995-befc-4bcf-aed5-32560410c94f",
   "metadata": {},
   "outputs": [
    {
     "name": "stderr",
     "output_type": "stream",
     "text": [
      "C:\\Users\\cgary\\AppData\\Local\\Temp\\ipykernel_10324\\667988536.py:3: ParserWarning: Falling back to the 'python' engine because the 'c' engine does not support regex separators (separators > 1 char and different from '\\s+' are interpreted as regex); you can avoid this warning by specifying engine='python'.\n",
      "  grs = pd.read_csv(GRS,delimiter='\\t+',header=0,index_col=False)\n",
      "C:\\Users\\cgary\\AppData\\Local\\Temp\\ipykernel_10324\\667988536.py:3: ParserWarning: Falling back to the 'python' engine because the 'c' engine does not support regex separators (separators > 1 char and different from '\\s+' are interpreted as regex); you can avoid this warning by specifying engine='python'.\n",
      "  grs = pd.read_csv(GRS,delimiter='\\t+',header=0,index_col=False)\n",
      "C:\\Users\\cgary\\AppData\\Local\\Temp\\ipykernel_10324\\667988536.py:3: ParserWarning: Falling back to the 'python' engine because the 'c' engine does not support regex separators (separators > 1 char and different from '\\s+' are interpreted as regex); you can avoid this warning by specifying engine='python'.\n",
      "  grs = pd.read_csv(GRS,delimiter='\\t+',header=0,index_col=False)\n",
      "C:\\Users\\cgary\\AppData\\Local\\Temp\\ipykernel_10324\\667988536.py:3: ParserWarning: Falling back to the 'python' engine because the 'c' engine does not support regex separators (separators > 1 char and different from '\\s+' are interpreted as regex); you can avoid this warning by specifying engine='python'.\n",
      "  grs = pd.read_csv(GRS,delimiter='\\t+',header=0,index_col=False)\n",
      "C:\\Users\\cgary\\AppData\\Local\\Temp\\ipykernel_10324\\667988536.py:3: ParserWarning: Falling back to the 'python' engine because the 'c' engine does not support regex separators (separators > 1 char and different from '\\s+' are interpreted as regex); you can avoid this warning by specifying engine='python'.\n",
      "  grs = pd.read_csv(GRS,delimiter='\\t+',header=0,index_col=False)\n",
      "C:\\Users\\cgary\\AppData\\Local\\Temp\\ipykernel_10324\\667988536.py:3: ParserWarning: Falling back to the 'python' engine because the 'c' engine does not support regex separators (separators > 1 char and different from '\\s+' are interpreted as regex); you can avoid this warning by specifying engine='python'.\n",
      "  grs = pd.read_csv(GRS,delimiter='\\t+',header=0,index_col=False)\n",
      "C:\\Users\\cgary\\AppData\\Local\\Temp\\ipykernel_10324\\667988536.py:3: ParserWarning: Falling back to the 'python' engine because the 'c' engine does not support regex separators (separators > 1 char and different from '\\s+' are interpreted as regex); you can avoid this warning by specifying engine='python'.\n",
      "  grs = pd.read_csv(GRS,delimiter='\\t+',header=0,index_col=False)\n",
      "C:\\Users\\cgary\\AppData\\Local\\Temp\\ipykernel_10324\\667988536.py:3: ParserWarning: Falling back to the 'python' engine because the 'c' engine does not support regex separators (separators > 1 char and different from '\\s+' are interpreted as regex); you can avoid this warning by specifying engine='python'.\n",
      "  grs = pd.read_csv(GRS,delimiter='\\t+',header=0,index_col=False)\n",
      "C:\\Users\\cgary\\AppData\\Local\\Temp\\ipykernel_10324\\667988536.py:3: ParserWarning: Falling back to the 'python' engine because the 'c' engine does not support regex separators (separators > 1 char and different from '\\s+' are interpreted as regex); you can avoid this warning by specifying engine='python'.\n",
      "  grs = pd.read_csv(GRS,delimiter='\\t+',header=0,index_col=False)\n"
     ]
    }
   ],
   "source": [
    "K = GRS(60.0, -60.0, -180.0, 180.0,\"K\")\n",
    "Th = GRS(60.0, -60.0, -180.0, 180.0,\"Th\")\n",
    "Si = GRS(60.0, -60.0, -180.0, 180.0,\"Si\")\n",
    "Fe = GRS(60.0, -60.0, -180.0, 180.0,\"Fe\")\n",
    "S = GRS(60.0, -60.0, -180.0, 180.0,\"S\")\n",
    "Cl = GRS(60.0, -60.0, -180.0, 180.0,\"Cl\")\n",
    "H2O = GRS(60.0, -60.0, -180.0, 180.0,\"H2O\")\n",
    "Ca = GRS(60.0, -60.0, -180.0, 180.0,\"Ca\")\n",
    "Al = GRS(60.0, -60.0, -180.0, 180.0,\"Al\")"
   ]
  },
  {
   "cell_type": "code",
   "execution_count": 20,
   "id": "12dd1793-8abd-4dce-b75b-8342946eac95",
   "metadata": {},
   "outputs": [],
   "source": [
    "K = K[K['K Wt%'] > 0.0]\n",
    "Th= Th[Th['Th ppm'] > 0.0]\n",
    "Si= Si[Si['Si Wt%'] > 0.0]\n",
    "Fe= Fe[Fe['Fe Wt%'] > 0.0]\n",
    "S = S[S['S Wt%'] > 0.0]\n",
    "Cl= Cl[Cl['Cl Wt%'] > 0.0]\n",
    "H2O= H2O[H2O['H2O Wt%'] > 0.0]\n",
    "Ca= Ca[Ca['Ca Wt%'] > 0.0]\n",
    "Al= Al[Al['Al Wt%'] > 0.0]"
   ]
  },
  {
   "cell_type": "code",
   "execution_count": 21,
   "id": "b706a569-b829-40bd-8758-4b330fcb88c4",
   "metadata": {},
   "outputs": [],
   "source": [
    "K['Zscore'] = stt(K['K Wt%'],K['K Sigma'])\n",
    "S['Zscore'] = stt(S['S Wt%'],S['S Sigma'])\n",
    "Si['Zscore'] = stt(Si['Si Wt%'],Si['Si Sigma'])\n",
    "Fe['Zscore'] = stt(Fe['Fe Wt%'],Fe['Fe Sigma'])\n",
    "Al['Zscore'] = stt(Al['Al Wt%'],Al['Al Sigma'])\n",
    "Cl['Zscore'] = stt(Cl['Cl Wt%'],Cl['Cl Sigma'])\n",
    "H2O['Zscore']= stt(H2O['H2O Wt%'],H2O['H2O Sigma'])\n",
    "Ca['Zscore'] = stt(Ca['Ca Wt%'],Ca['Ca Sigma'])\n",
    "Th['Zscore'] = stt(Th['Th ppm'],Th['Th Sigma'])"
   ]
  },
  {
   "cell_type": "code",
   "execution_count": 22,
   "id": "a9b0e1bc-5436-4f8d-9332-bc161a33f49d",
   "metadata": {},
   "outputs": [],
   "source": [
    "all = [K['Zscore'],Al['Zscore'],Si['Zscore'],Fe['Zscore'],S['Zscore'],Cl['Zscore'],Ca['Zscore'],H2O['Zscore'],Th['Zscore']]"
   ]
  },
  {
   "cell_type": "code",
   "execution_count": 23,
   "id": "64e92e82-0fda-423e-8524-b8c331239831",
   "metadata": {},
   "outputs": [],
   "source": [
    "def hclnp(data,perp,size):\n",
    "    K = GRS(60.0, -60.0, -180.0, 180.0,\"K\")\n",
    "    K = K[K['K Wt%'] > 0.0]\n",
    "    cdata = pd.concat(data, ignore_index=True,axis=1)\n",
    "    projection = TSNE(perplexity=perp).fit_transform(cdata)\n",
    "    hdbscan = HDBSCAN(min_cluster_size=size,cluster_selection_method='leaf').fit(projection)\n",
    "    prob = np.array(hdbscan.probabilities_, dtype=np.float64)\n",
    "    #plt.scatter(projection[:,0], projection[:,1],c=hdbscan.labels_)\n",
    "    #plt.colorbar();\n",
    "    newlab=hdbscan.labels_+1.0\n",
    "    clust = newlab*npr(hdbscan.probabilities_)\n",
    "    cldf = pd.DataFrame({'Latitude':K['Latitude'],'Longitude':K['Longitude'],'HDB':clust})\n",
    "    cldf2 = cldf[cldf['HDB'] > 0.0]\n",
    "    return cldf,cldf2,prob"
   ]
  },
  {
   "cell_type": "code",
   "execution_count": 24,
   "id": "aa714b36-c095-4140-90b7-28d67eaffc04",
   "metadata": {},
   "outputs": [],
   "source": [
    "def hclnpn(data,perp,size):\n",
    "    K = GRS(60.0, -60.0, -180.0, 180.0,\"K\")\n",
    "    K = K[K['K Wt%'] > 0.0]\n",
    "    cdata = pd.concat(data, ignore_index=True,axis=1)\n",
    "    projection = TSNE(perplexity=perp).fit_transform(cdata)\n",
    "    hdbscan = HDBSCAN(min_cluster_size=size).fit(projection)\n",
    "    prob = np.array(npr(hdbscan.probabilities_), dtype=np.float64)\n",
    "    #plt.scatter(projection[:,0], projection[:,1],c=hdbscan.labels_)\n",
    "    #plt.colorbar();\n",
    "    newlab=hdbscan.labels_+1.0\n",
    "    clust = newlab*npr(hdbscan.probabilities_)\n",
    "    #cldf = pd.DataFrame({'Latitude':K['Latitude'],'Longitude':K['Longitude'],'HDB':clust})\n",
    "    #cldf2 = cldf[cldf['HDB'] > 0.0]\n",
    "    return clust"
   ]
  },
  {
   "cell_type": "code",
   "execution_count": 25,
   "id": "26c74e50-a97e-49e7-aaba-7ac4444bc883",
   "metadata": {},
   "outputs": [],
   "source": [
    "def hclnpn2(data,n,size):\n",
    "    K = GRS(60.0, -60.0, -180.0, 180.0,\"K\")\n",
    "    K = K[K['K Wt%'] > 0.0]\n",
    "    cdata = pd.concat(data, ignore_index=True,axis=1)\n",
    "    fit = umap.UMAP(n_neighbors=n)\n",
    "    projection = fit.fit_transform(cdata)\n",
    "    hdbscan = HDBSCAN(min_cluster_size=39, cluster_selection_method='leaf').fit(projection)\n",
    "    prob = np.array([hdbscan.probabilities_], dtype=np.float64)\n",
    "    #plt.scatter(projection[:,0], projection[:,1],c=hdbscan.labels_)\n",
    "    #plt.colorbar();\n",
    "    newlab=hdbscan.labels_+1.0\n",
    "    clust = newlab*npr(hdbscan.probabilities_)\n",
    "    #cldf = pd.DataFrame({'Latitude':K['Latitude'],'Longitude':K['Longitude'],'HDB':clust})\n",
    "    #cldf2 = cldf[cldf['HDB'] > 0.0]\n",
    "    return clust"
   ]
  },
  {
   "cell_type": "code",
   "execution_count": null,
   "id": "53dc0dd7-7232-4b68-af90-bfe8b8b4bc76",
   "metadata": {},
   "outputs": [
    {
     "name": "stderr",
     "output_type": "stream",
     "text": [
      "C:\\Users\\cgary\\AppData\\Local\\Temp\\ipykernel_10324\\667988536.py:3: ParserWarning: Falling back to the 'python' engine because the 'c' engine does not support regex separators (separators > 1 char and different from '\\s+' are interpreted as regex); you can avoid this warning by specifying engine='python'.\n",
      "  grs = pd.read_csv(GRS,delimiter='\\t+',header=0,index_col=False)\n",
      "C:\\Users\\cgary\\AppData\\Local\\Temp\\ipykernel_10324\\667988536.py:3: ParserWarning: Falling back to the 'python' engine because the 'c' engine does not support regex separators (separators > 1 char and different from '\\s+' are interpreted as regex); you can avoid this warning by specifying engine='python'.\n",
      "  grs = pd.read_csv(GRS,delimiter='\\t+',header=0,index_col=False)\n",
      "C:\\Users\\cgary\\AppData\\Local\\Temp\\ipykernel_10324\\667988536.py:3: ParserWarning: Falling back to the 'python' engine because the 'c' engine does not support regex separators (separators > 1 char and different from '\\s+' are interpreted as regex); you can avoid this warning by specifying engine='python'.\n",
      "  grs = pd.read_csv(GRS,delimiter='\\t+',header=0,index_col=False)\n",
      "C:\\Users\\cgary\\AppData\\Local\\Temp\\ipykernel_10324\\667988536.py:3: ParserWarning: Falling back to the 'python' engine because the 'c' engine does not support regex separators (separators > 1 char and different from '\\s+' are interpreted as regex); you can avoid this warning by specifying engine='python'.\n",
      "  grs = pd.read_csv(GRS,delimiter='\\t+',header=0,index_col=False)\n",
      "C:\\Users\\cgary\\AppData\\Local\\Temp\\ipykernel_10324\\667988536.py:3: ParserWarning: Falling back to the 'python' engine because the 'c' engine does not support regex separators (separators > 1 char and different from '\\s+' are interpreted as regex); you can avoid this warning by specifying engine='python'.\n",
      "  grs = pd.read_csv(GRS,delimiter='\\t+',header=0,index_col=False)\n",
      "C:\\Users\\cgary\\AppData\\Local\\Temp\\ipykernel_10324\\667988536.py:3: ParserWarning: Falling back to the 'python' engine because the 'c' engine does not support regex separators (separators > 1 char and different from '\\s+' are interpreted as regex); you can avoid this warning by specifying engine='python'.\n",
      "  grs = pd.read_csv(GRS,delimiter='\\t+',header=0,index_col=False)\n",
      "C:\\Users\\cgary\\AppData\\Local\\Temp\\ipykernel_10324\\667988536.py:3: ParserWarning: Falling back to the 'python' engine because the 'c' engine does not support regex separators (separators > 1 char and different from '\\s+' are interpreted as regex); you can avoid this warning by specifying engine='python'.\n",
      "  grs = pd.read_csv(GRS,delimiter='\\t+',header=0,index_col=False)\n",
      "C:\\Users\\cgary\\AppData\\Local\\Temp\\ipykernel_10324\\667988536.py:3: ParserWarning: Falling back to the 'python' engine because the 'c' engine does not support regex separators (separators > 1 char and different from '\\s+' are interpreted as regex); you can avoid this warning by specifying engine='python'.\n",
      "  grs = pd.read_csv(GRS,delimiter='\\t+',header=0,index_col=False)\n",
      "C:\\Users\\cgary\\AppData\\Local\\Temp\\ipykernel_10324\\667988536.py:3: ParserWarning: Falling back to the 'python' engine because the 'c' engine does not support regex separators (separators > 1 char and different from '\\s+' are interpreted as regex); you can avoid this warning by specifying engine='python'.\n",
      "  grs = pd.read_csv(GRS,delimiter='\\t+',header=0,index_col=False)\n",
      "C:\\Users\\cgary\\AppData\\Local\\Temp\\ipykernel_10324\\667988536.py:3: ParserWarning: Falling back to the 'python' engine because the 'c' engine does not support regex separators (separators > 1 char and different from '\\s+' are interpreted as regex); you can avoid this warning by specifying engine='python'.\n",
      "  grs = pd.read_csv(GRS,delimiter='\\t+',header=0,index_col=False)\n",
      "C:\\Users\\cgary\\AppData\\Local\\Temp\\ipykernel_10324\\667988536.py:3: ParserWarning: Falling back to the 'python' engine because the 'c' engine does not support regex separators (separators > 1 char and different from '\\s+' are interpreted as regex); you can avoid this warning by specifying engine='python'.\n",
      "  grs = pd.read_csv(GRS,delimiter='\\t+',header=0,index_col=False)\n",
      "C:\\Users\\cgary\\AppData\\Local\\Temp\\ipykernel_10324\\667988536.py:3: ParserWarning: Falling back to the 'python' engine because the 'c' engine does not support regex separators (separators > 1 char and different from '\\s+' are interpreted as regex); you can avoid this warning by specifying engine='python'.\n",
      "  grs = pd.read_csv(GRS,delimiter='\\t+',header=0,index_col=False)\n",
      "C:\\Users\\cgary\\AppData\\Local\\Temp\\ipykernel_10324\\667988536.py:3: ParserWarning: Falling back to the 'python' engine because the 'c' engine does not support regex separators (separators > 1 char and different from '\\s+' are interpreted as regex); you can avoid this warning by specifying engine='python'.\n",
      "  grs = pd.read_csv(GRS,delimiter='\\t+',header=0,index_col=False)\n",
      "C:\\Users\\cgary\\AppData\\Local\\Temp\\ipykernel_10324\\667988536.py:3: ParserWarning: Falling back to the 'python' engine because the 'c' engine does not support regex separators (separators > 1 char and different from '\\s+' are interpreted as regex); you can avoid this warning by specifying engine='python'.\n",
      "  grs = pd.read_csv(GRS,delimiter='\\t+',header=0,index_col=False)\n",
      "C:\\Users\\cgary\\AppData\\Local\\Temp\\ipykernel_10324\\667988536.py:3: ParserWarning: Falling back to the 'python' engine because the 'c' engine does not support regex separators (separators > 1 char and different from '\\s+' are interpreted as regex); you can avoid this warning by specifying engine='python'.\n",
      "  grs = pd.read_csv(GRS,delimiter='\\t+',header=0,index_col=False)\n",
      "C:\\Users\\cgary\\AppData\\Local\\Temp\\ipykernel_10324\\667988536.py:3: ParserWarning: Falling back to the 'python' engine because the 'c' engine does not support regex separators (separators > 1 char and different from '\\s+' are interpreted as regex); you can avoid this warning by specifying engine='python'.\n",
      "  grs = pd.read_csv(GRS,delimiter='\\t+',header=0,index_col=False)\n",
      "C:\\Users\\cgary\\AppData\\Local\\Temp\\ipykernel_10324\\667988536.py:3: ParserWarning: Falling back to the 'python' engine because the 'c' engine does not support regex separators (separators > 1 char and different from '\\s+' are interpreted as regex); you can avoid this warning by specifying engine='python'.\n",
      "  grs = pd.read_csv(GRS,delimiter='\\t+',header=0,index_col=False)\n",
      "C:\\Users\\cgary\\AppData\\Local\\Temp\\ipykernel_10324\\667988536.py:3: ParserWarning: Falling back to the 'python' engine because the 'c' engine does not support regex separators (separators > 1 char and different from '\\s+' are interpreted as regex); you can avoid this warning by specifying engine='python'.\n",
      "  grs = pd.read_csv(GRS,delimiter='\\t+',header=0,index_col=False)\n",
      "C:\\Users\\cgary\\AppData\\Local\\Temp\\ipykernel_10324\\667988536.py:3: ParserWarning: Falling back to the 'python' engine because the 'c' engine does not support regex separators (separators > 1 char and different from '\\s+' are interpreted as regex); you can avoid this warning by specifying engine='python'.\n",
      "  grs = pd.read_csv(GRS,delimiter='\\t+',header=0,index_col=False)\n",
      "C:\\Users\\cgary\\AppData\\Local\\Temp\\ipykernel_10324\\667988536.py:3: ParserWarning: Falling back to the 'python' engine because the 'c' engine does not support regex separators (separators > 1 char and different from '\\s+' are interpreted as regex); you can avoid this warning by specifying engine='python'.\n",
      "  grs = pd.read_csv(GRS,delimiter='\\t+',header=0,index_col=False)\n",
      "C:\\Users\\cgary\\AppData\\Local\\Temp\\ipykernel_10324\\667988536.py:3: ParserWarning: Falling back to the 'python' engine because the 'c' engine does not support regex separators (separators > 1 char and different from '\\s+' are interpreted as regex); you can avoid this warning by specifying engine='python'.\n",
      "  grs = pd.read_csv(GRS,delimiter='\\t+',header=0,index_col=False)\n",
      "C:\\Users\\cgary\\AppData\\Local\\Temp\\ipykernel_10324\\667988536.py:3: ParserWarning: Falling back to the 'python' engine because the 'c' engine does not support regex separators (separators > 1 char and different from '\\s+' are interpreted as regex); you can avoid this warning by specifying engine='python'.\n",
      "  grs = pd.read_csv(GRS,delimiter='\\t+',header=0,index_col=False)\n",
      "C:\\Users\\cgary\\AppData\\Local\\Temp\\ipykernel_10324\\667988536.py:3: ParserWarning: Falling back to the 'python' engine because the 'c' engine does not support regex separators (separators > 1 char and different from '\\s+' are interpreted as regex); you can avoid this warning by specifying engine='python'.\n",
      "  grs = pd.read_csv(GRS,delimiter='\\t+',header=0,index_col=False)\n",
      "C:\\Users\\cgary\\AppData\\Local\\Temp\\ipykernel_10324\\667988536.py:3: ParserWarning: Falling back to the 'python' engine because the 'c' engine does not support regex separators (separators > 1 char and different from '\\s+' are interpreted as regex); you can avoid this warning by specifying engine='python'.\n",
      "  grs = pd.read_csv(GRS,delimiter='\\t+',header=0,index_col=False)\n",
      "C:\\Users\\cgary\\AppData\\Local\\Temp\\ipykernel_10324\\667988536.py:3: ParserWarning: Falling back to the 'python' engine because the 'c' engine does not support regex separators (separators > 1 char and different from '\\s+' are interpreted as regex); you can avoid this warning by specifying engine='python'.\n",
      "  grs = pd.read_csv(GRS,delimiter='\\t+',header=0,index_col=False)\n",
      "C:\\Users\\cgary\\AppData\\Local\\Temp\\ipykernel_10324\\667988536.py:3: ParserWarning: Falling back to the 'python' engine because the 'c' engine does not support regex separators (separators > 1 char and different from '\\s+' are interpreted as regex); you can avoid this warning by specifying engine='python'.\n",
      "  grs = pd.read_csv(GRS,delimiter='\\t+',header=0,index_col=False)\n",
      "C:\\Users\\cgary\\AppData\\Local\\Temp\\ipykernel_10324\\667988536.py:3: ParserWarning: Falling back to the 'python' engine because the 'c' engine does not support regex separators (separators > 1 char and different from '\\s+' are interpreted as regex); you can avoid this warning by specifying engine='python'.\n",
      "  grs = pd.read_csv(GRS,delimiter='\\t+',header=0,index_col=False)\n",
      "C:\\Users\\cgary\\AppData\\Local\\Temp\\ipykernel_10324\\667988536.py:3: ParserWarning: Falling back to the 'python' engine because the 'c' engine does not support regex separators (separators > 1 char and different from '\\s+' are interpreted as regex); you can avoid this warning by specifying engine='python'.\n",
      "  grs = pd.read_csv(GRS,delimiter='\\t+',header=0,index_col=False)\n",
      "C:\\Users\\cgary\\AppData\\Local\\Temp\\ipykernel_10324\\667988536.py:3: ParserWarning: Falling back to the 'python' engine because the 'c' engine does not support regex separators (separators > 1 char and different from '\\s+' are interpreted as regex); you can avoid this warning by specifying engine='python'.\n",
      "  grs = pd.read_csv(GRS,delimiter='\\t+',header=0,index_col=False)\n",
      "C:\\Users\\cgary\\AppData\\Local\\Temp\\ipykernel_10324\\667988536.py:3: ParserWarning: Falling back to the 'python' engine because the 'c' engine does not support regex separators (separators > 1 char and different from '\\s+' are interpreted as regex); you can avoid this warning by specifying engine='python'.\n",
      "  grs = pd.read_csv(GRS,delimiter='\\t+',header=0,index_col=False)\n",
      "C:\\Users\\cgary\\AppData\\Local\\Temp\\ipykernel_10324\\667988536.py:3: ParserWarning: Falling back to the 'python' engine because the 'c' engine does not support regex separators (separators > 1 char and different from '\\s+' are interpreted as regex); you can avoid this warning by specifying engine='python'.\n",
      "  grs = pd.read_csv(GRS,delimiter='\\t+',header=0,index_col=False)\n",
      "C:\\Users\\cgary\\AppData\\Local\\Temp\\ipykernel_10324\\667988536.py:3: ParserWarning: Falling back to the 'python' engine because the 'c' engine does not support regex separators (separators > 1 char and different from '\\s+' are interpreted as regex); you can avoid this warning by specifying engine='python'.\n",
      "  grs = pd.read_csv(GRS,delimiter='\\t+',header=0,index_col=False)\n",
      "C:\\Users\\cgary\\AppData\\Local\\Temp\\ipykernel_10324\\667988536.py:3: ParserWarning: Falling back to the 'python' engine because the 'c' engine does not support regex separators (separators > 1 char and different from '\\s+' are interpreted as regex); you can avoid this warning by specifying engine='python'.\n",
      "  grs = pd.read_csv(GRS,delimiter='\\t+',header=0,index_col=False)\n",
      "C:\\Users\\cgary\\AppData\\Local\\Temp\\ipykernel_10324\\667988536.py:3: ParserWarning: Falling back to the 'python' engine because the 'c' engine does not support regex separators (separators > 1 char and different from '\\s+' are interpreted as regex); you can avoid this warning by specifying engine='python'.\n",
      "  grs = pd.read_csv(GRS,delimiter='\\t+',header=0,index_col=False)\n",
      "C:\\Users\\cgary\\AppData\\Local\\Temp\\ipykernel_10324\\667988536.py:3: ParserWarning: Falling back to the 'python' engine because the 'c' engine does not support regex separators (separators > 1 char and different from '\\s+' are interpreted as regex); you can avoid this warning by specifying engine='python'.\n",
      "  grs = pd.read_csv(GRS,delimiter='\\t+',header=0,index_col=False)\n",
      "C:\\Users\\cgary\\AppData\\Local\\Temp\\ipykernel_10324\\667988536.py:3: ParserWarning: Falling back to the 'python' engine because the 'c' engine does not support regex separators (separators > 1 char and different from '\\s+' are interpreted as regex); you can avoid this warning by specifying engine='python'.\n",
      "  grs = pd.read_csv(GRS,delimiter='\\t+',header=0,index_col=False)\n",
      "C:\\Users\\cgary\\AppData\\Local\\Temp\\ipykernel_10324\\667988536.py:3: ParserWarning: Falling back to the 'python' engine because the 'c' engine does not support regex separators (separators > 1 char and different from '\\s+' are interpreted as regex); you can avoid this warning by specifying engine='python'.\n",
      "  grs = pd.read_csv(GRS,delimiter='\\t+',header=0,index_col=False)\n",
      "C:\\Users\\cgary\\AppData\\Local\\Temp\\ipykernel_10324\\667988536.py:3: ParserWarning: Falling back to the 'python' engine because the 'c' engine does not support regex separators (separators > 1 char and different from '\\s+' are interpreted as regex); you can avoid this warning by specifying engine='python'.\n",
      "  grs = pd.read_csv(GRS,delimiter='\\t+',header=0,index_col=False)\n",
      "C:\\Users\\cgary\\AppData\\Local\\Temp\\ipykernel_10324\\667988536.py:3: ParserWarning: Falling back to the 'python' engine because the 'c' engine does not support regex separators (separators > 1 char and different from '\\s+' are interpreted as regex); you can avoid this warning by specifying engine='python'.\n",
      "  grs = pd.read_csv(GRS,delimiter='\\t+',header=0,index_col=False)\n",
      "C:\\Users\\cgary\\AppData\\Local\\Temp\\ipykernel_10324\\667988536.py:3: ParserWarning: Falling back to the 'python' engine because the 'c' engine does not support regex separators (separators > 1 char and different from '\\s+' are interpreted as regex); you can avoid this warning by specifying engine='python'.\n",
      "  grs = pd.read_csv(GRS,delimiter='\\t+',header=0,index_col=False)\n",
      "C:\\Users\\cgary\\AppData\\Local\\Temp\\ipykernel_10324\\667988536.py:3: ParserWarning: Falling back to the 'python' engine because the 'c' engine does not support regex separators (separators > 1 char and different from '\\s+' are interpreted as regex); you can avoid this warning by specifying engine='python'.\n",
      "  grs = pd.read_csv(GRS,delimiter='\\t+',header=0,index_col=False)\n",
      "C:\\Users\\cgary\\AppData\\Local\\Temp\\ipykernel_10324\\667988536.py:3: ParserWarning: Falling back to the 'python' engine because the 'c' engine does not support regex separators (separators > 1 char and different from '\\s+' are interpreted as regex); you can avoid this warning by specifying engine='python'.\n",
      "  grs = pd.read_csv(GRS,delimiter='\\t+',header=0,index_col=False)\n",
      "C:\\Users\\cgary\\AppData\\Local\\Temp\\ipykernel_10324\\667988536.py:3: ParserWarning: Falling back to the 'python' engine because the 'c' engine does not support regex separators (separators > 1 char and different from '\\s+' are interpreted as regex); you can avoid this warning by specifying engine='python'.\n",
      "  grs = pd.read_csv(GRS,delimiter='\\t+',header=0,index_col=False)\n",
      "C:\\Users\\cgary\\AppData\\Local\\Temp\\ipykernel_10324\\667988536.py:3: ParserWarning: Falling back to the 'python' engine because the 'c' engine does not support regex separators (separators > 1 char and different from '\\s+' are interpreted as regex); you can avoid this warning by specifying engine='python'.\n",
      "  grs = pd.read_csv(GRS,delimiter='\\t+',header=0,index_col=False)\n",
      "C:\\Users\\cgary\\AppData\\Local\\Temp\\ipykernel_10324\\667988536.py:3: ParserWarning: Falling back to the 'python' engine because the 'c' engine does not support regex separators (separators > 1 char and different from '\\s+' are interpreted as regex); you can avoid this warning by specifying engine='python'.\n",
      "  grs = pd.read_csv(GRS,delimiter='\\t+',header=0,index_col=False)\n",
      "C:\\Users\\cgary\\AppData\\Local\\Temp\\ipykernel_10324\\667988536.py:3: ParserWarning: Falling back to the 'python' engine because the 'c' engine does not support regex separators (separators > 1 char and different from '\\s+' are interpreted as regex); you can avoid this warning by specifying engine='python'.\n",
      "  grs = pd.read_csv(GRS,delimiter='\\t+',header=0,index_col=False)\n",
      "C:\\Users\\cgary\\AppData\\Local\\Temp\\ipykernel_10324\\667988536.py:3: ParserWarning: Falling back to the 'python' engine because the 'c' engine does not support regex separators (separators > 1 char and different from '\\s+' are interpreted as regex); you can avoid this warning by specifying engine='python'.\n",
      "  grs = pd.read_csv(GRS,delimiter='\\t+',header=0,index_col=False)\n",
      "C:\\Users\\cgary\\AppData\\Local\\Temp\\ipykernel_10324\\667988536.py:3: ParserWarning: Falling back to the 'python' engine because the 'c' engine does not support regex separators (separators > 1 char and different from '\\s+' are interpreted as regex); you can avoid this warning by specifying engine='python'.\n",
      "  grs = pd.read_csv(GRS,delimiter='\\t+',header=0,index_col=False)\n",
      "C:\\Users\\cgary\\AppData\\Local\\Temp\\ipykernel_10324\\667988536.py:3: ParserWarning: Falling back to the 'python' engine because the 'c' engine does not support regex separators (separators > 1 char and different from '\\s+' are interpreted as regex); you can avoid this warning by specifying engine='python'.\n",
      "  grs = pd.read_csv(GRS,delimiter='\\t+',header=0,index_col=False)\n",
      "C:\\Users\\cgary\\AppData\\Local\\Temp\\ipykernel_10324\\667988536.py:3: ParserWarning: Falling back to the 'python' engine because the 'c' engine does not support regex separators (separators > 1 char and different from '\\s+' are interpreted as regex); you can avoid this warning by specifying engine='python'.\n",
      "  grs = pd.read_csv(GRS,delimiter='\\t+',header=0,index_col=False)\n",
      "C:\\Users\\cgary\\AppData\\Local\\Temp\\ipykernel_10324\\667988536.py:3: ParserWarning: Falling back to the 'python' engine because the 'c' engine does not support regex separators (separators > 1 char and different from '\\s+' are interpreted as regex); you can avoid this warning by specifying engine='python'.\n",
      "  grs = pd.read_csv(GRS,delimiter='\\t+',header=0,index_col=False)\n",
      "C:\\Users\\cgary\\AppData\\Local\\Temp\\ipykernel_10324\\667988536.py:3: ParserWarning: Falling back to the 'python' engine because the 'c' engine does not support regex separators (separators > 1 char and different from '\\s+' are interpreted as regex); you can avoid this warning by specifying engine='python'.\n",
      "  grs = pd.read_csv(GRS,delimiter='\\t+',header=0,index_col=False)\n",
      "C:\\Users\\cgary\\AppData\\Local\\Temp\\ipykernel_10324\\667988536.py:3: ParserWarning: Falling back to the 'python' engine because the 'c' engine does not support regex separators (separators > 1 char and different from '\\s+' are interpreted as regex); you can avoid this warning by specifying engine='python'.\n",
      "  grs = pd.read_csv(GRS,delimiter='\\t+',header=0,index_col=False)\n",
      "C:\\Users\\cgary\\AppData\\Local\\Temp\\ipykernel_10324\\667988536.py:3: ParserWarning: Falling back to the 'python' engine because the 'c' engine does not support regex separators (separators > 1 char and different from '\\s+' are interpreted as regex); you can avoid this warning by specifying engine='python'.\n",
      "  grs = pd.read_csv(GRS,delimiter='\\t+',header=0,index_col=False)\n",
      "C:\\Users\\cgary\\AppData\\Local\\Temp\\ipykernel_10324\\667988536.py:3: ParserWarning: Falling back to the 'python' engine because the 'c' engine does not support regex separators (separators > 1 char and different from '\\s+' are interpreted as regex); you can avoid this warning by specifying engine='python'.\n",
      "  grs = pd.read_csv(GRS,delimiter='\\t+',header=0,index_col=False)\n"
     ]
    }
   ],
   "source": [
    "x = np.arange(10,101,step=5)\n",
    "z = np.arange(10,101,step=5)\n",
    "y=[]\n",
    "for i in x:\n",
    "    for j in z:\n",
    "        y.append(hclnpn(all,i,j))"
   ]
  },
  {
   "cell_type": "code",
   "execution_count": null,
   "id": "7d2fe87b-7413-431b-a67b-d6f5aa078684",
   "metadata": {},
   "outputs": [],
   "source": [
    "x2 = np.arange(10,101,step=5)\n",
    "z2 = np.arange(10,101,step=5)\n",
    "y2=[]\n",
    "for i in x2:\n",
    "    for j in z2:\n",
    "        y2.append(hclnpn2(all,i,j))"
   ]
  },
  {
   "cell_type": "code",
   "execution_count": null,
   "id": "d8e7f8cb-8051-44c0-b661-ed793ef0a7f5",
   "metadata": {},
   "outputs": [],
   "source": [
    "def mult(list_of_arrays):\n",
    "\n",
    "    # Check if all arrays have the same shape:\n",
    "    first_shape = list_of_arrays[0].shape\n",
    "    for arr in list_of_arrays:\n",
    "        if arr.shape != first_shape:\n",
    "            return None  # Handle different shapes case\n",
    "\n",
    "    # Initialize the result with the first array:\n",
    "    result = list_of_arrays[0].copy() # Important: Create a copy to avoid modifying the original list\n",
    "\n",
    "    # Multiply with the remaining arrays:\n",
    "    for arr in list_of_arrays[1:]:\n",
    "        result *= arr  # Element-wise multiplication\n",
    "\n",
    "    return result"
   ]
  },
  {
   "cell_type": "code",
   "execution_count": null,
   "id": "4e756ebd-765e-42e4-9e57-9f1bb6d466e5",
   "metadata": {},
   "outputs": [],
   "source": [
    "def npr2(data):\n",
    "    for i in range(len(data)):\n",
    "        if data[i] <= 0.0:\n",
    "            data[i]=0.0\n",
    "        if data[i] > 0.0:\n",
    "            data[i] = 1.0\n",
    "    return data"
   ]
  },
  {
   "cell_type": "code",
   "execution_count": null,
   "id": "39f70e3a-eb36-4fe6-9f8b-e9da1687f957",
   "metadata": {},
   "outputs": [],
   "source": [
    "from scipy.stats import zscore\n",
    "e = np.sum(np.stack(y) , axis=0)\n",
    "e2 = np.sum(np.stack(y2) , axis=0)"
   ]
  },
  {
   "cell_type": "code",
   "execution_count": null,
   "id": "27b6a263-d9ed-4e98-807a-4e6c3248c2ea",
   "metadata": {},
   "outputs": [],
   "source": [
    "e = []\n",
    "for i in y:\n",
    "    e.append(y[i] - np.min(y[i])) / (np.max(y[i]) - np.min(y[i]))"
   ]
  },
  {
   "cell_type": "code",
   "execution_count": null,
   "id": "23e4607c-018a-4e6d-8847-b745e3cbe0ff",
   "metadata": {},
   "outputs": [],
   "source": [
    "fig = plt.subplots(figsize=(8,3),layout=\"constrained\")\n",
    "plt.scatter(K['Longitude'],K['Latitude'],c=e)\n",
    "plt.colorbar();"
   ]
  },
  {
   "cell_type": "code",
   "execution_count": null,
   "id": "8e91c5ec-8805-4369-9d46-cfdba8d34aa9",
   "metadata": {},
   "outputs": [],
   "source": [
    "fig = plt.subplots(figsize=(8,3),layout=\"constrained\")\n",
    "plt.scatter(K['Longitude'],K['Latitude'],c=es)\n",
    "plt.colorbar();"
   ]
  },
  {
   "cell_type": "code",
   "execution_count": null,
   "id": "c00f1267-142e-4bb2-8df1-5d4c714005d7",
   "metadata": {},
   "outputs": [],
   "source": [
    "fig = plt.subplots(figsize=(8,3),layout=\"constrained\")\n",
    "plt.scatter(K['Longitude'],K['Latitude'],c=e2)\n",
    "plt.colorbar();"
   ]
  },
  {
   "cell_type": "code",
   "execution_count": null,
   "id": "11041cde-5bde-4d01-85e6-a7873d407a38",
   "metadata": {},
   "outputs": [],
   "source": [
    "fig = plt.subplots(figsize=(8,3),layout=\"constrained\")\n",
    "plt.scatter(K['Longitude'],K['Latitude'],c=e2s)\n",
    "plt.colorbar();"
   ]
  },
  {
   "cell_type": "code",
   "execution_count": null,
   "id": "72e60a64-317c-4862-a2cb-69e771476c84",
   "metadata": {},
   "outputs": [],
   "source": [
    "def hclnp(data):\n",
    "    K = GRS(60.0, -60.0, -180.0, 180.0,\"K\")\n",
    "    K = K[K['K Wt%'] > 0.0]\n",
    "    cdata = pd.concat(data, ignore_index=True,axis=1)\n",
    "    projection = TSNE(perplexity=60).fit_transform(cdata)\n",
    "    hdbscan = HDBSCAN(min_cluster_size=39,cluster_selection_method='leaf').fit(projection)\n",
    "    prob = np.array(hdbscan.probabilities_, dtype=np.float64)\n",
    "    plt.scatter(projection[:,0], projection[:,1],c=hdbscan.labels_)\n",
    "    #plt.colorbar();\n",
    "    newlab=hdbscan.labels_+1.0\n",
    "    clust = newlab*npr(hdbscan.probabilities_)\n",
    "    cldf = pd.DataFrame({'Latitude':K['Latitude'],'Longitude':K['Longitude'],'HDB':clust})\n",
    "    cldf2 = cldf[cldf['HDB'] > 0.0]\n",
    "    return cldf,cldf2,prob\n",
    "def hclnp2(data):\n",
    "    K = GRS(60.0, -60.0, -180.0, 180.0,\"K\")\n",
    "    K = K[K['K Wt%'] > 0.0]\n",
    "    cdata = pd.concat(data, ignore_index=True,axis=1)\n",
    "    fit = umap.UMAP(n_neighbors=60)\n",
    "    projection = fit.fit_transform(cdata)\n",
    "    hdbscan = HDBSCAN(min_cluster_size=39, cluster_selection_method='leaf').fit(projection)\n",
    "    prob = np.array([hdbscan.probabilities_], dtype=np.float64)\n",
    "    plt.scatter(projection[:,0], projection[:,1], c=hdbscan.probabilities_)\n",
    "    plt.colorbar();\n",
    "    newlab=hdbscan.labels_+1.0\n",
    "    clust = newlab*npr(hdbscan.probabilities_)\n",
    "    cldf = pd.DataFrame({'Latitude':K['Latitude'],'Longitude':K['Longitude'],'HDB':clust})\n",
    "    cldf2 = cldf[cldf['HDB'] > 0.0]\n",
    "    return cldf,cldf2,prob"
   ]
  },
  {
   "cell_type": "code",
   "execution_count": null,
   "id": "14c4b364-6869-45f3-a8de-47e1aa4155fc",
   "metadata": {},
   "outputs": [],
   "source": [
    "pall = hclnp(all)\n",
    "testnp = plotn(pall[1], 'Z-Scores from All GRS elements')"
   ]
  },
  {
   "cell_type": "code",
   "execution_count": null,
   "id": "113def1f-cafc-47bc-a92e-221b1cdbbdf7",
   "metadata": {},
   "outputs": [],
   "source": [
    "pall2 = hclnp2(all)\n",
    "testnp = plotn(pall2[1], 'Z-Scores from All GRS elements')"
   ]
  },
  {
   "cell_type": "code",
   "execution_count": null,
   "id": "a7abd11c-7539-4c06-bf20-f76b7b782234",
   "metadata": {},
   "outputs": [],
   "source": [
    "K = GRS(60.0, -60.0, -180.0, 180.0,\"K\")\n",
    "K = K[K['K Wt%'] > 0.0]\n",
    "shared_columns=['Latitude','Longitude']\n",
    "missing_rows = K[~K.set_index(shared_columns).index.isin(pall[0].set_index(shared_columns).index)]\n",
    "missing_rows['HDB']= 0.0\n",
    "new_df = pd.concat([pall[0], missing_rows],ignore_index=False)\n",
    "data = stats.binned_statistic_2d(new_df['Latitude'],new_df['Longitude'], values = new_df['HDB'],\n",
    "                                           statistic='mean', bins = [22,71])\n",
    "K = K[K['K Wt%'] > 0.0]\n",
    "data2 = stats.binned_statistic_2d(K['Latitude'],K['Longitude'], values = pall[2],\n",
    "                                           statistic='mean', bins = [22,71])\n",
    "masked_data = np.ma.masked_where(data[0] == 0, data[0])\n",
    "x = new_df['HDB'][new_df['HDB'] > 0]"
   ]
  },
  {
   "cell_type": "code",
   "execution_count": null,
   "id": "21c1290d-29e2-46dd-9d54-683657431d2f",
   "metadata": {},
   "outputs": [],
   "source": [
    "fig, ax = plt.subplots(figsize=(13.5,6))\n",
    "plt.rcParams.update({'font.size': 15})\n",
    "xv,yv = np.meshgrid(data[2],data[1])\n",
    "cmap = plt.get_cmap('jet_r',int(np.max(x))-int(np.min(x))+1)\n",
    "y = plt.pcolormesh(xv,yv,masked_data,vmin = np.min(x)-.5, vmax = np.max(x)+.5,cmap=cmap)\n",
    "cbar = plt.colorbar(y,label='Province #')\n",
    "plt.scatter(ara1['Lon'],ara1['Lat'],s=1,label='Parker 1993',c='k')\n",
    "plt.xlabel('Longitude (°)')\n",
    "plt.ylabel('Latitude (°)')\n",
    "plt.ylim(-87.5,87.5)\n",
    "plt.xlim(-177.5,177.5);\n",
    "#plt.scatter(nprov0['Longitude'],nprov0['Latitude'],s=5)"
   ]
  },
  {
   "cell_type": "code",
   "execution_count": null,
   "id": "770cfce9-6641-46f6-8871-4b454fc28a16",
   "metadata": {},
   "outputs": [],
   "source": [
    "fig, ax = plt.subplots(figsize=(13.5,6))\n",
    "plt.rcParams.update({'font.size': 15})\n",
    "xv,yv = np.meshgrid(data2[2],data2[1])\n",
    "y = plt.pcolormesh(xv,yv,data2[0],cmap='RdGy_r')\n",
    "plt.scatter(ara1['Lon'],ara1['Lat'],s=1,label='Parker 1993',c='c')\n",
    "cbar = plt.colorbar(y,label='Probability')\n",
    "#plt.scatter(ara1['Lon'],ara1['Lat'],s=1,label='Parker 1993',c='k')\n",
    "plt.xlabel('Longitude (°)')\n",
    "plt.ylabel('Latitude (°)')\n",
    "#plt.axis('off')\n",
    "plt.ylim(-87.5,87.5)\n",
    "plt.xlim(-177.5,177.5);"
   ]
  },
  {
   "cell_type": "code",
   "execution_count": null,
   "id": "81a71130-765d-45ad-a9d1-3eea57b5f7ea",
   "metadata": {},
   "outputs": [],
   "source": [
    "fig = plt.figure(frameon=False)\n",
    "xv,yv = np.meshgrid(data[2],data[1])\n",
    "cmap = plt.get_cmap('jet_r',int(np.max(x))-int(np.min(x))+1)\n",
    "y = plt.pcolormesh(xv,yv,masked_data,vmin = np.min(x)-.5, vmax = np.max(x)+.5,cmap=cmap,fc='none',edgecolors=None,lw=0.01)\n",
    "#cbar = plt.colorbar(y,label='Group #')\n",
    "#plt.scatter(ara1['Lon'],ara1['Lat'],s=1,label='Parker 1993',c='k')\n",
    "#plt.xlabel('Longitude (°)')\n",
    "#plt.ylabel('Latitude (°)')\n",
    "plt.ylim(-87.5,87.5)\n",
    "plt.xlim(-177.75,177.75)\n",
    "\n",
    "plt.axis('off');\n",
    "fig.savefig('provs.png', bbox_inches='tight',transparent=True, pad_inches=0,dpi=300)\n",
    "#plt.grid(which='both');"
   ]
  },
  {
   "cell_type": "code",
   "execution_count": null,
   "id": "2f97e4d7-55e5-445a-876c-9b853d7d0f55",
   "metadata": {},
   "outputs": [],
   "source": [
    "fig = plt.figure(frameon=False)\n",
    "#fig, ax = plt.subplots(figsize=(13.5,6))\n",
    "plt.rcParams.update({'font.size': 15})\n",
    "xv,yv = np.meshgrid(data2[2],data2[1])\n",
    "y = plt.pcolormesh(xv,yv,data2[0],cmap='RdGy_r')\n",
    "#cbar = plt.colorbar(y,label='Probability')\n",
    "#plt.scatter(ara1['Lon'],ara1['Lat'],s=1,label='Parker 1993',c='k')\n",
    "#plt.xlabel('Longitude (°)')\n",
    "#plt.ylabel('Latitude (°)')\n",
    "plt.axis('off')\n",
    "plt.ylim(-87.5,87.5)\n",
    "plt.xlim(-177.5,177.5)\n",
    "fig.savefig('probs.png', bbox_inches='tight',transparent=True, pad_inches=0,dpi=300);"
   ]
  },
  {
   "cell_type": "code",
   "execution_count": null,
   "id": "ed783468-ed16-46dc-81e2-b9ccb0165826",
   "metadata": {},
   "outputs": [],
   "source": [
    "fig = plt.figure(frameon=False)\n",
    "#fig, ax = plt.subplots(figsize=(13.5,6))\n",
    "plt.rcParams.update({'font.size': 15})\n",
    "plt.scatter(deu1['Lon'],deu1['Lat'],s=5,label='Parker 1993',c='m')\n",
    "#cbar = plt.colorbar(y,label='Probability')\n",
    "plt.scatter(ara1['Lon'],ara1['Lat'],s=5,label='Parker 1993',c='c')\n",
    "#plt.xlabel('Longitude (°)')\n",
    "#plt.ylabel('Latitude (°)')\n",
    "plt.axis('off')\n",
    "#plt.ylim(-52.5,52.5)\n",
    "#plt.xlim(-177.5,177.5)\n",
    "#fig.savefig('shoren2.png', bbox_inches='tight',transparent=True, pad_inches=0,dpi=300);"
   ]
  },
  {
   "cell_type": "code",
   "execution_count": null,
   "id": "e5d360db-9c0b-4f72-b9d4-30827d98017a",
   "metadata": {},
   "outputs": [],
   "source": [
    "K = GRS(60.0, -60.0, -180.0, 180.0,\"K\")\n",
    "Th = GRS(60.0, -60.0, -180.0, 180.0,\"Th\")\n",
    "Si = GRS(60.0, -60.0, -180.0, 180.0,\"Si\")\n",
    "Fe = GRS(60.0, -60.0, -180.0, 180.0,\"Fe\")\n",
    "S = GRS(60.0, -60.0, -180.0, 180.0,\"S\")\n",
    "Cl = GRS(60.0, -60.0, -180.0, 180.0,\"Cl\")\n",
    "H2O = GRS(60.0, -60.0, -180.0, 180.0,\"H2O\")\n",
    "Ca = GRS(60.0, -60.0, -180.0, 180.0,\"Ca\")\n",
    "Al = GRS(60.0, -60.0, -180.0, 180.0,\"Al\")"
   ]
  },
  {
   "cell_type": "code",
   "execution_count": null,
   "id": "11476727-0927-4d8f-85ef-e413b1be7f90",
   "metadata": {},
   "outputs": [],
   "source": [
    "new_df['K Wt%'] = K['K Wt%']\n",
    "new_df['K Sigma'] = K['K Sigma']\n",
    "new_df['Th ppm'] = Th['Th ppm']\n",
    "new_df['Th Sigma'] = Th['Th Sigma']\n",
    "new_df['Si Wt%'] = Si['Si Wt%']\n",
    "new_df['Si Sigma'] = Si['Si Sigma']\n",
    "new_df['Fe Wt%'] = Fe['Fe Wt%']\n",
    "new_df['Fe Sigma'] = Fe['Fe Sigma']\n",
    "new_df['S Wt%'] = S['S Wt%']\n",
    "new_df['S Sigma'] = S['S Sigma']\n",
    "new_df['Cl Wt%'] = Cl['Cl Wt%']\n",
    "new_df['Cl Sigma'] = Cl['Cl Sigma']\n",
    "new_df['H2O Wt%'] = H2O['H2O Wt%']\n",
    "new_df['H2O Sigma'] = H2O['H2O Sigma']\n",
    "new_df['Ca Wt%'] = Ca['Ca Wt%']\n",
    "new_df['Ca Sigma'] = Ca['Ca Sigma']\n",
    "new_df['Al Wt%'] = Al['Al Wt%']\n",
    "new_df['Al Sigma'] = Al['Al Sigma']"
   ]
  },
  {
   "cell_type": "code",
   "execution_count": null,
   "id": "dbd7dfed-ad13-4b03-afdc-621e2dbfbef2",
   "metadata": {},
   "outputs": [],
   "source": [
    "prov1= new_df[new_df['HDB'] == 1.0]\n",
    "prov2= new_df[new_df['HDB'] == 2.0]\n",
    "prov3= new_df[new_df['HDB'] == 3.0]\n",
    "prov4= new_df[new_df['HDB'] == 4.0]\n",
    "prov5= new_df[new_df['HDB'] == 5.0]\n",
    "prov6= new_df[new_df['HDB'] == 6.0]\n",
    "prov7= new_df[new_df['HDB'] == 7.0]\n",
    "prov0= new_df[new_df['HDB'] == 0.0]\n",
    "nprov0 = prov0[prov0['K Wt%'] >0.0]"
   ]
  },
  {
   "cell_type": "code",
   "execution_count": null,
   "id": "725e71b8-1dd1-4aa1-b05d-2b62ce5384dc",
   "metadata": {},
   "outputs": [],
   "source": [
    "test = bp(nprov0,new_df,'Non-Province')"
   ]
  },
  {
   "cell_type": "code",
   "execution_count": null,
   "id": "402b40a7-653c-4ed3-a07f-e5f67dd3b81d",
   "metadata": {},
   "outputs": [],
   "source": [
    "test = bp(prov1,new_df,'Province 1')"
   ]
  },
  {
   "cell_type": "code",
   "execution_count": null,
   "id": "9068b999-b814-4977-bafc-756166456de6",
   "metadata": {},
   "outputs": [],
   "source": [
    "test = bp(prov2,new_df,'Province 2')"
   ]
  },
  {
   "cell_type": "code",
   "execution_count": null,
   "id": "5f34b2ca-b2ae-4960-8cec-8fa317a66606",
   "metadata": {},
   "outputs": [],
   "source": [
    "test = bp(prov3,new_df,'Province 3')"
   ]
  },
  {
   "cell_type": "code",
   "execution_count": null,
   "id": "be949f17-4d0e-4ce8-a84a-3c1e46c5b880",
   "metadata": {},
   "outputs": [],
   "source": [
    "test = bp(prov4,new_df,'Province 4')"
   ]
  },
  {
   "cell_type": "code",
   "execution_count": null,
   "id": "70b873c7-7233-4a64-8c53-86cd03b05952",
   "metadata": {},
   "outputs": [],
   "source": [
    "test = bp(prov5,new_df,'Province 5')"
   ]
  },
  {
   "cell_type": "code",
   "execution_count": null,
   "id": "dbe457d8-6a23-4095-8d61-163b661ebba7",
   "metadata": {},
   "outputs": [],
   "source": [
    "test = bp(prov6,new_df,'Province 6')"
   ]
  },
  {
   "cell_type": "code",
   "execution_count": null,
   "id": "447c3df0-d3ed-460b-b9da-c2fc42dfa42f",
   "metadata": {},
   "outputs": [],
   "source": [
    "test = bp(prov7,new_df,'Province 7')"
   ]
  },
  {
   "cell_type": "code",
   "execution_count": null,
   "id": "bbea49e5-7c6f-46de-8d51-e01536315831",
   "metadata": {},
   "outputs": [],
   "source": [
    "test=joyp(new_df, 'Si Wt%', 'Si Sigma', 'Silicon')"
   ]
  },
  {
   "cell_type": "code",
   "execution_count": null,
   "id": "559acb42-0f10-4b08-849b-ca6253fe84d8",
   "metadata": {},
   "outputs": [],
   "source": [
    "test=joyp(new_df, 'Al Wt%', 'Al Sigma','Aluminium')"
   ]
  },
  {
   "cell_type": "code",
   "execution_count": null,
   "id": "75745c20-f8fd-4742-980f-66b919e99de9",
   "metadata": {},
   "outputs": [],
   "source": [
    "test=joyp(new_df, 'Ca Wt%', 'Ca Sigma', 'Calcium')"
   ]
  },
  {
   "cell_type": "code",
   "execution_count": null,
   "id": "8ef56521-42de-4368-94e4-cb763aad6f28",
   "metadata": {},
   "outputs": [],
   "source": [
    "test=joyp(new_df, 'Fe Wt%','Fe Sigma', 'Iron')"
   ]
  },
  {
   "cell_type": "code",
   "execution_count": null,
   "id": "f6899be3-2dd8-4be7-a695-99f464741796",
   "metadata": {},
   "outputs": [],
   "source": [
    "test=joyp(new_df, 'H2O Wt%','H2O Sigma', 'Water')"
   ]
  },
  {
   "cell_type": "code",
   "execution_count": null,
   "id": "9acb8966-404b-4634-9a0b-e02c7e86b5db",
   "metadata": {},
   "outputs": [],
   "source": [
    "test=joyp(new_df, 'S Wt%','S Sigma', 'Sulphur')"
   ]
  },
  {
   "cell_type": "code",
   "execution_count": null,
   "id": "c917d895-b67d-408a-8840-cfdb18a9f3ad",
   "metadata": {},
   "outputs": [],
   "source": [
    "test=joyp(new_df, 'Cl Wt%', 'Cl Sigma','Chlorine')"
   ]
  },
  {
   "cell_type": "code",
   "execution_count": null,
   "id": "a877d399-b7ee-4f99-a363-a16f719ccd6f",
   "metadata": {},
   "outputs": [],
   "source": [
    "test=joyp(new_df, 'K Wt%','K Sigma', 'Potassium')"
   ]
  },
  {
   "cell_type": "code",
   "execution_count": null,
   "id": "8e8dec05-922a-49a4-baec-a648a582dbee",
   "metadata": {},
   "outputs": [],
   "source": [
    "test=joyp(new_df, 'Th ppm','Th Sigma', 'Thorium')"
   ]
  },
  {
   "cell_type": "code",
   "execution_count": null,
   "id": "89d50fd9-b08c-47d5-ae0e-e97cd03b6036",
   "metadata": {},
   "outputs": [],
   "source": [
    "n1prov4 = prov4[(prov4['Latitude'] > 30.0)]\n",
    "n2prov4 = prov4[(prov4['Longitude'] < 0.0) & (prov4['Latitude'] > 25.0)]\n",
    "naprov4 = pd.concat((n1prov4,n2prov4))\n",
    "nbprov4= prov4.merge(naprov4, how='left', indicator=True)\n",
    "nbprov4 = nbprov4[nbprov4['_merge'] == 'left_only']"
   ]
  },
  {
   "cell_type": "code",
   "execution_count": null,
   "id": "1c08316d-f304-4f60-a034-88d4253af974",
   "metadata": {},
   "outputs": [],
   "source": [
    "naprov3 = prov3[(prov3['Longitude'] > 0.0)]\n",
    "nbprov3 = prov3[(prov3['Longitude'] < 0.0)]"
   ]
  },
  {
   "cell_type": "code",
   "execution_count": null,
   "id": "a003dc41-98a4-42d8-9a69-66f4854aeeed",
   "metadata": {},
   "outputs": [],
   "source": [
    "naprov6a = prov6[(prov6['Longitude'] > 0.0) & (prov6['Latitude'] < 25.0)]\n",
    "naprov6b = prov6[(prov6['Longitude'] < -100.0)]\n",
    "naprov6 = pd.concat((naprov6a,naprov6b))\n",
    "nbprov6 = prov6[(prov6['Longitude'] < 0.0) & (prov6['Longitude'] > -100.0) & (prov6['Latitude'] < 25.0)]\n",
    "ncprov6 = prov6[(prov6['Latitude'] > 25.0)]"
   ]
  },
  {
   "cell_type": "code",
   "execution_count": null,
   "id": "30646a45-c85f-4369-bbc9-7ba995292a81",
   "metadata": {},
   "outputs": [],
   "source": [
    "naprov1= prov1[(prov1['Latitude'] < 15.0)]\n",
    "nbprov1= prov1[(prov1['Latitude'] > 15.0)]\n",
    "plt.scatter(naprov1['Longitude'],naprov1['Latitude'],c='red')\n",
    "plt.scatter(nbprov1['Longitude'],nbprov1['Latitude'],c='blue')\n",
    "plt.ylim(-90,90)\n",
    "plt.xlim(-177.5,177.5)"
   ]
  },
  {
   "cell_type": "code",
   "execution_count": null,
   "id": "9e078be1-edcb-4b08-8cc7-4029a008abdb",
   "metadata": {},
   "outputs": [],
   "source": [
    "test = bp2(naprov1,nbprov1,new_df,'Province 1a', 'Province 1b')"
   ]
  },
  {
   "cell_type": "code",
   "execution_count": null,
   "id": "1e7dd346-d2c8-4fb0-96c6-bf6687e3a0ac",
   "metadata": {},
   "outputs": [],
   "source": [
    "test = bp2(nbprov4,naprov1,new_df,'Province 4b', 'Province 1a')"
   ]
  },
  {
   "cell_type": "code",
   "execution_count": null,
   "id": "0295909e-d58f-4e2c-a81c-be9ddab36910",
   "metadata": {},
   "outputs": [],
   "source": [
    "#plt.scatter(naprov4['Longitude'],naprov4['Latitude'])\n",
    "#plt.scatter(nbprov4['Longitude'],nbprov4['Latitude'])\n",
    "plt.scatter(naprov3['Longitude'],naprov3['Latitude'],c='blue')\n",
    "plt.scatter(nbprov3['Longitude'],nbprov3['Latitude'],c='red')\n",
    "plt.ylim(-90,90)\n",
    "plt.xlim(-177.5,177.5)\n",
    "plt.scatter(ara1['Lon'],ara1['Lat'],s=1,label='Parker 1993',c='k');"
   ]
  },
  {
   "cell_type": "code",
   "execution_count": null,
   "id": "434fdcfc-e3ee-42b7-af74-f341dd226e6c",
   "metadata": {},
   "outputs": [],
   "source": [
    "test = bp2(naprov3,nbprov3,new_df,'Province 3a', 'Province 3b')"
   ]
  },
  {
   "cell_type": "code",
   "execution_count": null,
   "id": "e08ec9e3-91f6-4866-b18d-32dd21f97145",
   "metadata": {},
   "outputs": [],
   "source": [
    "plt.scatter(naprov4['Longitude'],naprov4['Latitude'],c='blue')\n",
    "plt.scatter(nbprov4['Longitude'],nbprov4['Latitude'],c='red')\n",
    "plt.ylim(-90,90)\n",
    "plt.xlim(-177.5,177.5)\n",
    "plt.scatter(ara1['Lon'],ara1['Lat'],s=1,label='Parker 1993',c='k');"
   ]
  },
  {
   "cell_type": "code",
   "execution_count": null,
   "id": "e1142a0d-6418-43fa-bc20-6cdb8cc44ae6",
   "metadata": {},
   "outputs": [],
   "source": [
    "test = bp2(naprov3,naprov4,new_df,'Province 3a','Province 4a')"
   ]
  },
  {
   "cell_type": "code",
   "execution_count": null,
   "id": "8f251d70-2e9c-4101-8ad3-2c4ca99e58fd",
   "metadata": {},
   "outputs": [],
   "source": [
    "test = bp2(prov7,ncprov6,new_df,'Province 6c','Province 7')"
   ]
  },
  {
   "cell_type": "code",
   "execution_count": null,
   "id": "a388e40e-d816-4df4-a790-f5dc8a42a59b",
   "metadata": {},
   "outputs": [],
   "source": [
    "test = bp2(naprov4,nbprov4,new_df,'Province 4a','Province 4b')"
   ]
  },
  {
   "cell_type": "code",
   "execution_count": null,
   "id": "8d9c81a9-a14a-4257-a48e-1ede918be302",
   "metadata": {},
   "outputs": [],
   "source": [
    "plt.scatter(naprov6['Longitude'],naprov6['Latitude'],c='blue')\n",
    "plt.scatter(nbprov6['Longitude'],nbprov6['Latitude'],c='black')\n",
    "plt.scatter(ncprov6['Longitude'],ncprov6['Latitude'],c='red')\n",
    "#plt.scatter(naprov3['Longitude'],naprov3['Latitude'])\n",
    "#plt.scatter(nbprov3['Longitude'],nbprov3['Latitude'])\n",
    "plt.ylim(-90,90)\n",
    "plt.xlim(-177.5,177.5)\n",
    "plt.scatter(ara1['Lon'],ara1['Lat'],s=1,label='Parker 1993',c='k');"
   ]
  },
  {
   "cell_type": "code",
   "execution_count": null,
   "id": "48962726-b17b-440c-bff0-a77e4dc48881",
   "metadata": {},
   "outputs": [],
   "source": [
    "test = bp3(naprov6,nbprov6,ncprov6,new_df,'Province 6a','Province 6b','Province 6c')"
   ]
  },
  {
   "cell_type": "code",
   "execution_count": null,
   "id": "05c214e0-4108-48c1-a373-43d08f785ffc",
   "metadata": {},
   "outputs": [],
   "source": [
    "plt.scatter(ncprov6['Longitude'],ncprov6['Latitude'],color='blue')\n",
    "plt.scatter(nbprov3['Longitude'],nbprov3['Latitude'],color='black')\n",
    "plt.scatter(naprov4['Longitude'],naprov4['Latitude'],color='red')\n",
    "#plt.scatter(nbprov3['Longitude'],nbprov3['Latitude'])\n",
    "plt.ylim(-90,90)\n",
    "plt.xlim(-177.5,177.5)\n",
    "plt.scatter(ara1['Lon'],ara1['Lat'],s=1,label='Parker 1993',c='k');"
   ]
  },
  {
   "cell_type": "code",
   "execution_count": null,
   "id": "1ec3e428-a9cc-4e29-8bb7-7a9074cf8f33",
   "metadata": {},
   "outputs": [],
   "source": [
    "test = bp3(ncprov6,nbprov3,naprov4,new_df,'Province 6c','Province 3b','Province 4a')"
   ]
  },
  {
   "cell_type": "code",
   "execution_count": null,
   "id": "e688e096-f7f5-412b-8031-dd243bac283c",
   "metadata": {},
   "outputs": [],
   "source": [
    "t = Th['Th ppm'][Th['Th ppm']>0.0]\n",
    "fig = plt.figure(figsize=(13,5.5))\n",
    "xv,yv = np.meshgrid(data[2],data[1])\n",
    "cmap = plt.get_cmap('jet_r',int(np.max(x))-int(np.min(x))+1)\n",
    "z = plt.tricontourf(Th['Longitude'],Th['Latitude'],Th['Th ppm'],levels=np.linspace(t.min(),t.max(),25),cmap='seismic')\n",
    "#y = plt.pcolormesh(xv,yv,masked_data,vmin = np.min(x)-.5,cmap=cmap, vmax = np.max(x)+.5,fc='none',edgecolors=None,lw=0.01)\n",
    "plt.colorbar(z,label='Th ppm')\n",
    "ax = plt.gca()\n",
    "ax.set_facecolor('xkcd:dark navy')\n",
    "#plt.scatter(ara1['Lon'],ara1['Lat'],s=1,label='Parker 1993',c='orange')\n",
    "plt.xlabel('Longitude (°)')\n",
    "plt.ylabel('Latitude (°)')\n",
    "plt.ylim(-52.5,52.5)\n",
    "plt.xlim(-177.75,177.75);"
   ]
  },
  {
   "cell_type": "code",
   "execution_count": null,
   "id": "d07fbc9e-e810-4389-ba94-71ce758ea5f0",
   "metadata": {},
   "outputs": [],
   "source": [
    "t = K['K Wt%'][K['K Wt%']>0.0]\n",
    "fig = plt.figure(figsize=(13,5.5))\n",
    "z = plt.tricontourf(K['Longitude'],K['Latitude'],K['K Wt%'],levels=np.linspace(t.min(),t.max(),25),cmap='seismic')\n",
    "plt.colorbar(z,label='K Wt%')\n",
    "ax = plt.gca()\n",
    "ax.set_facecolor('xkcd:dark navy')\n",
    "plt.xlabel('Longitude (°)')\n",
    "plt.ylabel('Latitude (°)')\n",
    "plt.ylim(-52.5,52.5)\n",
    "plt.xlim(-177.75,177.75);"
   ]
  },
  {
   "cell_type": "code",
   "execution_count": null,
   "id": "114f7b72-c4fb-42fd-9ac4-db9ef550e245",
   "metadata": {},
   "outputs": [],
   "source": [
    "t = Si['Si Wt%'][Si['Si Wt%']>0.0]\n",
    "fig = plt.figure(figsize=(13,5.5))\n",
    "xv,yv = np.meshgrid(data[2],data[1])\n",
    "cmap = plt.get_cmap('jet_r',int(np.max(x))-int(np.min(x))+1)\n",
    "z = plt.tricontourf(Si['Longitude'],Si['Latitude'],Si['Si Wt%'],levels=np.linspace(t.min(),t.max(),25),cmap='seismic')\n",
    "#y = plt.pcolormesh(xv,yv,masked_data,vmin = np.min(x)-.5,cmap=cmap, vmax = np.max(x)+.5,fc='none',edgecolors=None,lw=0.01)\n",
    "plt.colorbar(z,label='Si Wt%')\n",
    "ax = plt.gca()\n",
    "ax.set_facecolor('xkcd:dark navy')\n",
    "plt.scatter(ara1['Lon'],ara1['Lat'],s=5,label='Parker 1993',c='k')\n",
    "plt.xlabel('Longitude (°)')\n",
    "plt.ylabel('Latitude (°)')\n",
    "plt.ylim(-52.5,52.5)\n",
    "plt.xlim(-177.75,177.75);"
   ]
  },
  {
   "cell_type": "code",
   "execution_count": null,
   "id": "1b722b30-122a-462a-a5c1-d4b04161c049",
   "metadata": {},
   "outputs": [],
   "source": [
    "t = Fe['Fe Wt%'][Fe['Fe Wt%']>0.0]\n",
    "fig = plt.figure(figsize=(13,5.5))\n",
    "xv,yv = np.meshgrid(data[2],data[1])\n",
    "cmap = plt.get_cmap('jet_r',int(np.max(x))-int(np.min(x))+1)\n",
    "z = plt.tricontourf(Fe['Longitude'],Fe['Latitude'],Fe['Fe Wt%'],levels=np.linspace(t.min(),t.max(),25),cmap='seismic')\n",
    "#y = plt.pcolormesh(xv,yv,masked_data,vmin = np.min(x)-.5,cmap=cmap, vmax = np.max(x)+.5,fc='none',edgecolors=None,lw=0.01)\n",
    "plt.colorbar(z,label='Fe Wt%')\n",
    "ax = plt.gca()\n",
    "ax.set_facecolor('xkcd:dark navy')\n",
    "plt.scatter(ara1['Lon'],ara1['Lat'],s=5,label='Parker 1993',c='k')\n",
    "plt.xlabel('Longitude (°)')\n",
    "plt.ylabel('Latitude (°)')\n",
    "plt.ylim(-52.5,52.5)\n",
    "plt.xlim(-177.75,177.75);"
   ]
  },
  {
   "cell_type": "code",
   "execution_count": null,
   "id": "4372a001-fd84-4cce-b275-62a19e671be7",
   "metadata": {},
   "outputs": [],
   "source": [
    "t = Al['Al Wt%'][Al['Al Wt%']>0.0]\n",
    "fig = plt.figure(figsize=(13,5.5))\n",
    "xv,yv = np.meshgrid(data[2],data[1])\n",
    "cmap = plt.get_cmap('jet_r',int(np.max(x))-int(np.min(x))+1)\n",
    "z = plt.tricontourf(Al['Longitude'],Al['Latitude'],Al['Al Wt%'],levels=np.linspace(t.min(),t.max(),25),cmap='seismic')\n",
    "#y = plt.pcolormesh(xv,yv,masked_data,vmin = np.min(x)-.5,cmap=cmap, vmax = np.max(x)+.5,fc='none',edgecolors=None,lw=0.01)\n",
    "plt.colorbar(z,label='Al Wt%')\n",
    "ax = plt.gca()\n",
    "ax.set_facecolor('xkcd:dark navy')\n",
    "plt.scatter(ara1['Lon'],ara1['Lat'],s=5,label='Parker 1993',c='k')\n",
    "plt.xlabel('Longitude (°)')\n",
    "plt.ylabel('Latitude (°)')\n",
    "plt.ylim(-52.5,52.5)\n",
    "plt.xlim(-177.75,177.75);"
   ]
  },
  {
   "cell_type": "code",
   "execution_count": null,
   "id": "4fdc7d06-472a-4b2e-af44-cac7e7b7c2e9",
   "metadata": {},
   "outputs": [],
   "source": [
    "t = Ca['Ca Wt%'][Ca['Ca Wt%']>0.0]\n",
    "fig = plt.figure(figsize=(13,5.5))\n",
    "xv,yv = np.meshgrid(data[2],data[1])\n",
    "cmap = plt.get_cmap('jet_r',int(np.max(x))-int(np.min(x))+1)\n",
    "z = plt.tricontourf(Ca['Longitude'],Ca['Latitude'],Ca['Ca Wt%'],levels=np.linspace(t.min(),t.max(),25),cmap='seismic')\n",
    "#y = plt.pcolormesh(xv,yv,masked_data,vmin = np.min(x)-.5,cmap=cmap, vmax = np.max(x)+.5,fc='none',edgecolors=None,lw=0.015)\n",
    "plt.colorbar(z,label='Ca Wt%')\n",
    "ax = plt.gca()\n",
    "ax.set_facecolor('xkcd:dark navy')\n",
    "plt.scatter(ara1['Lon'],ara1['Lat'],s=5,label='Parker 1993',c='k')\n",
    "plt.xlabel('Longitude (°)')\n",
    "plt.ylabel('Latitude (°)')\n",
    "plt.ylim(-52.5,52.5)\n",
    "plt.xlim(-177.75,177.75);"
   ]
  },
  {
   "cell_type": "code",
   "execution_count": null,
   "id": "bf6480db-50f1-4221-9823-12d71902359d",
   "metadata": {},
   "outputs": [],
   "source": [
    "t = S['S Wt%'][S['S Wt%']>0.0]\n",
    "fig = plt.figure(figsize=(13,5.5))\n",
    "xv,yv = np.meshgrid(data[2],data[1])\n",
    "cmap = plt.get_cmap('jet_r',int(np.max(x))-int(np.min(x))+1)\n",
    "z = plt.tricontourf(S['Longitude'],S['Latitude'],S['S Wt%'],levels=np.linspace(t.min(),t.max(),25),cmap='seismic')\n",
    "#y = plt.pcolormesh(xv,yv,masked_data,vmin = np.min(x)-.5,cmap=cmap, vmax = np.max(x)+.5,fc='none',edgecolors=None,lw=0.01)\n",
    "plt.colorbar(z,label='S Wt%')\n",
    "ax = plt.gca()\n",
    "ax.set_facecolor('xkcd:dark navy')\n",
    "plt.scatter(ara1['Lon'],ara1['Lat'],s=5,label='Parker 1993',c='k')\n",
    "plt.xlabel('Longitude (°)')\n",
    "plt.ylabel('Latitude (°)')\n",
    "plt.ylim(-52.5,52.5)\n",
    "plt.xlim(-177.75,177.75);"
   ]
  },
  {
   "cell_type": "code",
   "execution_count": null,
   "id": "c369ad17-f8b2-4736-8130-93ed25ad6544",
   "metadata": {},
   "outputs": [],
   "source": [
    "t = Cl['Cl Wt%'][Cl['Cl Wt%']>0.0]\n",
    "fig = plt.figure(figsize=(13,5.5))\n",
    "xv,yv = np.meshgrid(data[2],data[1])\n",
    "cmap = plt.get_cmap('jet_r',int(np.max(x))-int(np.min(x))+1)\n",
    "z = plt.tricontourf(Cl['Longitude'],Cl['Latitude'],Cl['Cl Wt%'],levels=np.linspace(t.min(),t.max(),25),cmap='seismic')\n",
    "#y = plt.pcolormesh(xv,yv,masked_data,vmin = np.min(x)-.5,cmap=cmap, vmax = np.max(x)+.5,fc='none',edgecolors=None,lw=0.01,)\n",
    "plt.colorbar(z,label='Cl Wt%')\n",
    "ax = plt.gca()\n",
    "ax.set_facecolor('xkcd:dark navy')\n",
    "plt.scatter(ara1['Lon'],ara1['Lat'],s=5,label='Parker 1993',c='k')\n",
    "plt.xlabel('Longitude (°)')\n",
    "plt.ylabel('Latitude (°)')\n",
    "plt.ylim(-52.5,52.5)\n",
    "plt.xlim(-177.75,177.75);"
   ]
  },
  {
   "cell_type": "code",
   "execution_count": null,
   "id": "f73264eb-589c-4b62-813d-f188790253ec",
   "metadata": {},
   "outputs": [],
   "source": [
    "t = H2O['H2O Wt%'][H2O['H2O Wt%']>0.0]\n",
    "fig = plt.figure(figsize=(13,5.5))\n",
    "xv,yv = np.meshgrid(data[2],data[1])\n",
    "cmap = plt.get_cmap('jet_r',int(np.max(x))-int(np.min(x))+1)\n",
    "z = plt.tricontourf(H2O['Longitude'],H2O['Latitude'],H2O['H2O Wt%'],levels=np.linspace(t.min(),t.max(),25),cmap='seismic')\n",
    "#y = plt.pcolormesh(xv,yv,masked_data,vmin = np.min(x)-.5,cmap=cmap, vmax = np.max(x)+.5,fc='none',edgecolors=None,lw=0.01)\n",
    "plt.colorbar(z,label='H2O Wt%')\n",
    "ax = plt.gca()\n",
    "ax.set_facecolor('xkcd:dark navy')\n",
    "plt.scatter(ara1['Lon'],ara1['Lat'],s=5,label='Parker 1993',c='k')\n",
    "plt.xlabel('Longitude (°)')\n",
    "plt.ylabel('Latitude (°)')\n",
    "plt.ylim(-52.5,52.5)\n",
    "plt.xlim(-177.75,177.75);"
   ]
  },
  {
   "cell_type": "code",
   "execution_count": null,
   "id": "50054f05-5ce1-40ce-94b8-672b5f3f52bc",
   "metadata": {},
   "outputs": [],
   "source": [
    "def ire(data):\n",
    "    data['Lon'] = np.where(data['Lon'] > 180.0, data['Lon']-360.0, data['Lon'])\n",
    "    return data"
   ]
  },
  {
   "cell_type": "code",
   "execution_count": null,
   "id": "f00d7e38-418b-4d04-b877-95dc63f49e18",
   "metadata": {},
   "outputs": [],
   "source": [
    "thu = pd.read_csv('th_sr_5x5.tab',delimiter='\\s+',header=None,index_col=False,names=['Lat','Lon','Th ppm','Sigma','Sigma_CFS'])\n",
    "thu = ire(thu)"
   ]
  },
  {
   "cell_type": "code",
   "execution_count": null,
   "id": "1b4f7caa-ae36-44c7-9409-96d8132b83be",
   "metadata": {},
   "outputs": [],
   "source": [
    "ks = pd.read_csv('k_sr_5x5.tab',delimiter='\\s+',header=None,index_col=False,names=['Lat','Lon','K Wt%','Sigma','Sigma_CFS'])\n",
    "ks = ire(ks)"
   ]
  },
  {
   "cell_type": "code",
   "execution_count": null,
   "id": "2698fc2d-c919-4ba2-bc6a-82f9e0e544ef",
   "metadata": {},
   "outputs": [],
   "source": [
    "t = ks['K Wt%'][ks['K Wt%']>0.0]\n",
    "fig = plt.figure(figsize=(13,5.5))\n",
    "z = plt.tricontourf(ks['Lon'],ks['Lat'],ks['K Wt%'],levels=np.linspace(t.min(),t.max(),25),cmap='seismic')\n",
    "xv,yv = np.meshgrid(data[2],data[1])\n",
    "cmap = plt.get_cmap('jet_r',int(np.max(x))-int(np.min(x))+1)\n",
    "#y = plt.pcolormesh(xv,yv,masked_data,vmin = np.min(x)-.5, vmax = np.max(x)+.5,cmap=cmap,fc='none',edgecolors=None,lw=0.01)\n",
    "plt.colorbar(z,label='K Wt%')\n",
    "plt.scatter(ara1['Lon'],ara1['Lat'],s=5,c='k')\n",
    "plt.scatter(delto['Lon. (E)'],delto['Lat.'],c='m',marker='s',label='Open Basin Deltas')\n",
    "plt.scatter(deltc['Lon. (E)'],deltc['Lat.'],c='c',marker='D',label='Closed Basin Deposits')\n",
    "plt.scatter(deltcs['Lon. (E)'],deltcs['Lat.'],c='green',marker='^',label='Closed Basin Deltas')\n",
    "ax = plt.gca()\n",
    "ax.set_facecolor('xkcd:dark navy')\n",
    "plt.xlabel('Longitude (°)')\n",
    "plt.ylabel('Latitude (°)')\n",
    "plt.legend()\n",
    "plt.ylim(-87.5,87.5)\n",
    "plt.xlim(-177.5,177.5);"
   ]
  },
  {
   "cell_type": "code",
   "execution_count": null,
   "id": "013562ca-cb97-40b0-9b93-0237c2136af0",
   "metadata": {},
   "outputs": [],
   "source": [
    "delto = delt[delt['Basin4']=='O']\n",
    "deltc = delt[delt['Basin4']=='C']\n",
    "deltcs = delt[delt['Basin4']=='C(S)']"
   ]
  },
  {
   "cell_type": "code",
   "execution_count": null,
   "id": "8b11d8cd-9bb9-45c7-aa08-e4facf6dd458",
   "metadata": {},
   "outputs": [],
   "source": [
    "t = thu['Th ppm'][thu['Th ppm']>0.0]\n",
    "fig = plt.figure(figsize=(13,5.5))\n",
    "z = plt.tricontourf(thu['Lon'],thu['Lat'],thu['Th ppm'],levels=np.linspace(t.min(),t.max(),25),cmap='seismic')\n",
    "xv,yv = np.meshgrid(data[2],data[1])\n",
    "cmap = plt.get_cmap('jet_r',int(np.max(x))-int(np.min(x))+1)\n",
    "#y = plt.pcolormesh(xv,yv,masked_data,vmin = np.min(x)-.5, vmax = np.max(x)+.5,cmap=cmap,fc='none',edgecolors=None,lw=0.01)\n",
    "plt.scatter(ara1['Lon'],ara1['Lat'],s=5,c='k')\n",
    "plt.colorbar(z,label='Th ppm')\n",
    "ax = plt.gca()\n",
    "plt.scatter(delto['Lon. (E)'],delto['Lat.'],c='m',marker='s',label='Open Basin Deltas')\n",
    "plt.scatter(deltc['Lon. (E)'],deltc['Lat.'],c='c',marker='D',label='Closed Basin Deposits')\n",
    "plt.scatter(deltcs['Lon. (E)'],deltcs['Lat.'],c='green',marker='^',label='Closed Basin Deltas')\n",
    "plt.legend()\n",
    "ax.set_facecolor('xkcd:dark navy')\n",
    "plt.xlabel('Longitude (°)')\n",
    "plt.ylabel('Latitude (°)')\n",
    "plt.ylim(-87.5,87.5)\n",
    "plt.xlim(-177.5,177.5);"
   ]
  },
  {
   "cell_type": "code",
   "execution_count": null,
   "id": "25dca536-e578-49fb-868f-2bcc97764c8f",
   "metadata": {},
   "outputs": [],
   "source": []
  }
 ],
 "metadata": {
  "kernelspec": {
   "display_name": "Python 3 (ipykernel)",
   "language": "python",
   "name": "python3"
  },
  "language_info": {
   "codemirror_mode": {
    "name": "ipython",
    "version": 3
   },
   "file_extension": ".py",
   "mimetype": "text/x-python",
   "name": "python",
   "nbconvert_exporter": "python",
   "pygments_lexer": "ipython3",
   "version": "3.8.19"
  }
 },
 "nbformat": 4,
 "nbformat_minor": 5
}
